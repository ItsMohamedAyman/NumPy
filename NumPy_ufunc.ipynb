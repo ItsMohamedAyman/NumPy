{
  "nbformat": 4,
  "nbformat_minor": 0,
  "metadata": {
    "colab": {
      "provenance": [],
      "authorship_tag": "ABX9TyMTPGk8gSi5NnOuc9SbWOkd",
      "include_colab_link": true
    },
    "kernelspec": {
      "name": "python3",
      "display_name": "Python 3"
    },
    "language_info": {
      "name": "python"
    }
  },
  "cells": [
    {
      "cell_type": "markdown",
      "metadata": {
        "id": "view-in-github",
        "colab_type": "text"
      },
      "source": [
        "<a href=\"https://colab.research.google.com/github/ItsMohamedAyman/NumPy/blob/main/NumPy_ufunc.ipynb\" target=\"_parent\"><img src=\"https://colab.research.google.com/assets/colab-badge.svg\" alt=\"Open In Colab\"/></a>"
      ]
    },
    {
      "cell_type": "markdown",
      "source": [
        "# **1. Simple Arithmetic**"
      ],
      "metadata": {
        "id": "HyebqwWsYAEO"
      }
    },
    {
      "cell_type": "markdown",
      "source": [
        "## Addition"
      ],
      "metadata": {
        "id": "mGiGEi_2aQsH"
      }
    },
    {
      "cell_type": "code",
      "source": [
        "import numpy as np\n",
        "\n",
        "arr1 = np.array([10, 11, 12, 13, 14, 15])\n",
        "arr2 = np.array([20, 21, 22, 23, 24, 25])\n",
        "\n",
        "new_arr = np.add(arr1,arr2)\n",
        "print(newarr)"
      ],
      "metadata": {
        "id": "Ccq0p3h3aHmW",
        "outputId": "c7317c92-0fc9-4ee5-dbc5-b1a89eb93638",
        "colab": {
          "base_uri": "https://localhost:8080/"
        }
      },
      "execution_count": 2,
      "outputs": [
        {
          "output_type": "stream",
          "name": "stdout",
          "text": [
            "[30 32 34 36 38 40]\n"
          ]
        }
      ]
    },
    {
      "cell_type": "markdown",
      "source": [
        "## Subtraction"
      ],
      "metadata": {
        "id": "A7VSWHHSatMI"
      }
    },
    {
      "cell_type": "code",
      "source": [
        "import numpy as np\n",
        "\n",
        "arr1 = np.array([10, 20, 30, 40, 50, 60])\n",
        "arr2 = np.array([20, 21, 22, 23, 24, 25])\n",
        "\n",
        "newarr = np.subtract(arr1, arr2)\n",
        "\n",
        "print(newarr)"
      ],
      "metadata": {
        "id": "u9Wm8AJwawXa",
        "outputId": "9da1b207-4bdb-4e29-c758-fcc7301706ea",
        "colab": {
          "base_uri": "https://localhost:8080/"
        }
      },
      "execution_count": 4,
      "outputs": [
        {
          "output_type": "stream",
          "name": "stdout",
          "text": [
            "[-10  -1   8  17  26  35]\n"
          ]
        }
      ]
    },
    {
      "cell_type": "markdown",
      "source": [
        "## Multiplication"
      ],
      "metadata": {
        "id": "vSovHO9Ca7Py"
      }
    },
    {
      "cell_type": "code",
      "source": [
        "import numpy as np\n",
        "\n",
        "arr1 = np.array([10, 20, 30, 40, 50, 60])\n",
        "arr2 = np.array([20, 21, 22, 23, 24, 25])\n",
        "\n",
        "newarr = np.multiply(arr1, arr2)\n",
        "\n",
        "print(newarr)"
      ],
      "metadata": {
        "id": "tS7_uEwEa8RK"
      },
      "execution_count": null,
      "outputs": []
    },
    {
      "cell_type": "markdown",
      "source": [
        "## Division"
      ],
      "metadata": {
        "id": "nYzSnUsoa-Sw"
      }
    },
    {
      "cell_type": "code",
      "source": [
        "import numpy as np\n",
        "\n",
        "arr1 = np.array([10, 20, 30, 40, 50, 60])\n",
        "arr2 = np.array([3, 5, 10, 8, 2, 33])\n",
        "\n",
        "newarr = np.divide(arr1, arr2)\n",
        "\n",
        "print(newarr)"
      ],
      "metadata": {
        "id": "wRo14CQlbA-g",
        "outputId": "cebc9b1b-c206-4a66-d1a7-41d6c7730337",
        "colab": {
          "base_uri": "https://localhost:8080/"
        }
      },
      "execution_count": 5,
      "outputs": [
        {
          "output_type": "stream",
          "name": "stdout",
          "text": [
            "[ 3.33333333  4.          3.          5.         25.          1.81818182]\n"
          ]
        }
      ]
    },
    {
      "cell_type": "markdown",
      "source": [
        "## Power"
      ],
      "metadata": {
        "id": "SEedVLIgbIIj"
      }
    },
    {
      "cell_type": "code",
      "source": [
        "import numpy as np\n",
        "\n",
        "arr1 = np.array([10, 20, 30, 40, 50, 60])\n",
        "arr2 = np.array([3, 5, 6, 8, 2, 3])\n",
        "\n",
        "newarr = np.power(arr1, arr2)\n",
        "\n",
        "print(newarr)"
      ],
      "metadata": {
        "id": "HDFOGPLTbI1j",
        "outputId": "0b75adc1-6ad7-4ea6-c414-0ac42e9ae0e4",
        "colab": {
          "base_uri": "https://localhost:8080/"
        }
      },
      "execution_count": 8,
      "outputs": [
        {
          "output_type": "stream",
          "name": "stdout",
          "text": [
            "[         1000       3200000     729000000 6553600000000          2500\n",
            "        216000]\n"
          ]
        }
      ]
    },
    {
      "cell_type": "markdown",
      "source": [
        "## Remainder"
      ],
      "metadata": {
        "id": "esfcLAMzbW2_"
      }
    },
    {
      "cell_type": "markdown",
      "source": [
        "Both the mod() and the remainder() functions return the remainder of the values in the first array corresponding to the values in the second array, and return the results in a new array."
      ],
      "metadata": {
        "id": "qvve1hopbhiJ"
      }
    },
    {
      "cell_type": "code",
      "source": [
        "import numpy as np\n",
        "\n",
        "arr1 = np.array([10, 20, 30, 40, 50, 60])\n",
        "arr2 = np.array([3, 7, 9, 8, 2, 33])\n",
        "\n",
        "newarr = np.mod(arr1, arr2)\n",
        "\n",
        "print(newarr)"
      ],
      "metadata": {
        "id": "NUErGnd7bX3F"
      },
      "execution_count": null,
      "outputs": []
    },
    {
      "cell_type": "markdown",
      "source": [
        "You get the same result when using the remainder() function:"
      ],
      "metadata": {
        "id": "qW_nDaElbiox"
      }
    },
    {
      "cell_type": "code",
      "source": [
        "import numpy as np\n",
        "\n",
        "arr1 = np.array([10, 20, 30, 40, 50, 60])\n",
        "arr2 = np.array([3, 7, 9, 8, 2, 33])\n",
        "\n",
        "newarr = np.remainder(arr1, arr2)\n",
        "\n",
        "print(newarr)"
      ],
      "metadata": {
        "id": "tCri-VOHbl1I"
      },
      "execution_count": null,
      "outputs": []
    },
    {
      "cell_type": "markdown",
      "source": [
        "## Quotient and Mod"
      ],
      "metadata": {
        "id": "AVmG8JStbZtY"
      }
    },
    {
      "cell_type": "markdown",
      "source": [
        "The divmod() function return both the quotient and the mod. The return value is two arrays, the first array contains the quotient and second array contains the mod."
      ],
      "metadata": {
        "id": "_m5TwoNIbz-O"
      }
    },
    {
      "cell_type": "code",
      "source": [
        "import numpy as np\n",
        "\n",
        "arr1 = np.array([10, 20, 30, 40, 50, 60])\n",
        "arr2 = np.array([3, 7, 9, 8, 2, 33])\n",
        "\n",
        "newarr = np.divmod(arr1, arr2)\n",
        "\n",
        "print(newarr)"
      ],
      "metadata": {
        "id": "x5ec3wbNbtUd",
        "outputId": "9eb67453-d195-4d6e-aae5-42036d2ca418",
        "colab": {
          "base_uri": "https://localhost:8080/"
        }
      },
      "execution_count": 9,
      "outputs": [
        {
          "output_type": "stream",
          "name": "stdout",
          "text": [
            "(array([ 3,  2,  3,  5, 25,  1]), array([ 1,  6,  3,  0,  0, 27]))\n"
          ]
        }
      ]
    },
    {
      "cell_type": "markdown",
      "source": [
        "## Absolute Values"
      ],
      "metadata": {
        "id": "xomU80bvb-MH"
      }
    },
    {
      "cell_type": "code",
      "source": [
        "import numpy as np\n",
        "\n",
        "arr = np.array([-1, -2, 1, 2, 3, -4])\n",
        "\n",
        "newarr = np.absolute(arr)\n",
        "\n",
        "print(newarr)"
      ],
      "metadata": {
        "id": "jNMFNdyGb_fl"
      },
      "execution_count": null,
      "outputs": []
    },
    {
      "cell_type": "markdown",
      "source": [
        "# **2. Rounding Decimals**\n"
      ],
      "metadata": {
        "id": "2bGb5MCGcWmF"
      }
    },
    {
      "cell_type": "markdown",
      "source": [
        "## Truncation\n"
      ],
      "metadata": {
        "id": "9veHfxGJcogT"
      }
    },
    {
      "cell_type": "markdown",
      "source": [
        "Remove the decimals, and return the float number closest to zero. Use the trunc() and fix() functions."
      ],
      "metadata": {
        "id": "oXTRyCchcrvv"
      }
    },
    {
      "cell_type": "code",
      "source": [
        "import numpy as np\n",
        "\n",
        "arr = np.trunc([-3.1666, 3.6667])\n",
        "\n",
        "print(arr)"
      ],
      "metadata": {
        "id": "DT_VP5EbcsPQ",
        "outputId": "108e32d5-dedc-4c07-e796-0e35d3362f2e",
        "colab": {
          "base_uri": "https://localhost:8080/"
        }
      },
      "execution_count": 10,
      "outputs": [
        {
          "output_type": "stream",
          "name": "stdout",
          "text": [
            "[-3.  3.]\n"
          ]
        }
      ]
    },
    {
      "cell_type": "markdown",
      "source": [
        "Same example, using fix():"
      ],
      "metadata": {
        "id": "Old67Talc8Tk"
      }
    },
    {
      "cell_type": "code",
      "source": [
        "import numpy as np\n",
        "arr = np.fix([-3.1666, 3.6667])\n",
        "print(arr)"
      ],
      "metadata": {
        "id": "BCApglRbc8vH",
        "outputId": "a7a091ea-ec7a-4546-c0a7-8aeb6aa5694d",
        "colab": {
          "base_uri": "https://localhost:8080/"
        }
      },
      "execution_count": 11,
      "outputs": [
        {
          "output_type": "stream",
          "name": "stdout",
          "text": [
            "[-3.  3.]\n"
          ]
        }
      ]
    },
    {
      "cell_type": "markdown",
      "source": [
        "## Rounding"
      ],
      "metadata": {
        "id": "SwpqMEpXdZ_A"
      }
    },
    {
      "cell_type": "markdown",
      "source": [
        "The around() function increments preceding digit or decimal by 1 if >=5 else do nothing.\n",
        "\n",
        "E.g. round off to 1 decimal point, 3.16666 is 3.2\n",
        "\n"
      ],
      "metadata": {
        "id": "H3WCsaykd47o"
      }
    },
    {
      "cell_type": "code",
      "source": [
        "import numpy as np\n",
        "\n",
        "arr = np.around(3.1666, 2)\n",
        "\n",
        "print(arr)"
      ],
      "metadata": {
        "id": "geqZKq5Rd9KB",
        "outputId": "44aa9668-a76e-49a9-8625-dd335d2489a1",
        "colab": {
          "base_uri": "https://localhost:8080/"
        }
      },
      "execution_count": 20,
      "outputs": [
        {
          "output_type": "stream",
          "name": "stdout",
          "text": [
            "3.17\n"
          ]
        }
      ]
    },
    {
      "cell_type": "markdown",
      "source": [
        "## Floor"
      ],
      "metadata": {
        "id": "mVkmLrnDeTL5"
      }
    },
    {
      "cell_type": "markdown",
      "source": [
        "The floor() function rounds off decimal to nearest lower integer.\n",
        "\n",
        "E.g. floor of 3.166 is 3"
      ],
      "metadata": {
        "id": "YkN_2mRseUg6"
      }
    },
    {
      "cell_type": "code",
      "source": [
        "import numpy as np\n",
        "\n",
        "arr = np.floor([-3.1666, 3.6667])\n",
        "\n",
        "print(arr)"
      ],
      "metadata": {
        "id": "5icNkN4FeWYH",
        "outputId": "7895797c-1e9c-44cc-8b01-bb9091484fb8",
        "colab": {
          "base_uri": "https://localhost:8080/"
        }
      },
      "execution_count": 21,
      "outputs": [
        {
          "output_type": "stream",
          "name": "stdout",
          "text": [
            "[-4.  3.]\n"
          ]
        }
      ]
    },
    {
      "cell_type": "markdown",
      "source": [
        "## Ceil"
      ],
      "metadata": {
        "id": "m30gOD7AeadG"
      }
    },
    {
      "cell_type": "markdown",
      "source": [
        "The ceil() function rounds off decimal to nearest upper integer.\n",
        "\n",
        "E.g. ceil of 3.166 is 4"
      ],
      "metadata": {
        "id": "fGXedg1teduc"
      }
    },
    {
      "cell_type": "code",
      "source": [
        "import numpy as np\n",
        "\n",
        "arr = np.ceil([-3.1666, 3.6667])\n",
        "\n",
        "print(arr)"
      ],
      "metadata": {
        "id": "HiPSR6rFegVy",
        "outputId": "d552aaff-8b00-4a0e-b770-b4277d9242a1",
        "colab": {
          "base_uri": "https://localhost:8080/"
        }
      },
      "execution_count": 22,
      "outputs": [
        {
          "output_type": "stream",
          "name": "stdout",
          "text": [
            "[-3.  4.]\n"
          ]
        }
      ]
    },
    {
      "cell_type": "markdown",
      "source": [
        "# **3. NumPy Logs**"
      ],
      "metadata": {
        "id": "V-03nTwve-O1"
      }
    },
    {
      "cell_type": "markdown",
      "source": [
        "## Log at Base 2"
      ],
      "metadata": {
        "id": "4_DdhZkWfRCh"
      }
    },
    {
      "cell_type": "code",
      "source": [
        "import numpy as np\n",
        "\n",
        "arr = np.arange(1, 10)\n",
        "\n",
        "print(np.log2(arr))"
      ],
      "metadata": {
        "id": "eet0BE4XfSLc"
      },
      "execution_count": null,
      "outputs": []
    },
    {
      "cell_type": "markdown",
      "source": [
        "## Log at Base 10"
      ],
      "metadata": {
        "id": "gEQl0EHQfkC5"
      }
    },
    {
      "cell_type": "code",
      "source": [
        "import numpy as np\n",
        "\n",
        "arr = np.arange(1, 10)\n",
        "\n",
        "print(np.log10(arr))"
      ],
      "metadata": {
        "id": "6DOs4lRDfmZi"
      },
      "execution_count": null,
      "outputs": []
    },
    {
      "cell_type": "markdown",
      "source": [
        "## Natural Log, or Log at Base e"
      ],
      "metadata": {
        "id": "r-A84ESPfocX"
      }
    },
    {
      "cell_type": "code",
      "source": [
        "import numpy as np\n",
        "\n",
        "arr = np.arange(1, 10)\n",
        "\n",
        "print(np.log(arr))"
      ],
      "metadata": {
        "id": "s8hU7iZKftKn"
      },
      "execution_count": null,
      "outputs": []
    },
    {
      "cell_type": "markdown",
      "source": [
        "## Log at Any Base"
      ],
      "metadata": {
        "id": "VNdHqCW3fvcV"
      }
    },
    {
      "cell_type": "code",
      "source": [
        "from math import log\n",
        "import numpy as np\n",
        "\n",
        "nplog = np.frompyfunc(log, 2, 1)\n",
        "\n",
        "print(nplog(100, 15))"
      ],
      "metadata": {
        "id": "A536K7-vfyIx",
        "outputId": "3cd9b275-6be7-4c75-fcd2-1043887babdf",
        "colab": {
          "base_uri": "https://localhost:8080/"
        }
      },
      "execution_count": 24,
      "outputs": [
        {
          "output_type": "stream",
          "name": "stdout",
          "text": [
            "1.7005483074552052\n"
          ]
        }
      ]
    }
  ]
}