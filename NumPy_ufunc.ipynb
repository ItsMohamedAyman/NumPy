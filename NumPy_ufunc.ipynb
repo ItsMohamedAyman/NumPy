{
  "nbformat": 4,
  "nbformat_minor": 0,
  "metadata": {
    "colab": {
      "provenance": [],
      "authorship_tag": "ABX9TyOVwhSGh1YlMziPcESSXMEV",
      "include_colab_link": true
    },
    "kernelspec": {
      "name": "python3",
      "display_name": "Python 3"
    },
    "language_info": {
      "name": "python"
    }
  },
  "cells": [
    {
      "cell_type": "markdown",
      "metadata": {
        "id": "view-in-github",
        "colab_type": "text"
      },
      "source": [
        "<a href=\"https://colab.research.google.com/github/ItsMohamedAyman/NumPy/blob/main/NumPy_ufunc.ipynb\" target=\"_parent\"><img src=\"https://colab.research.google.com/assets/colab-badge.svg\" alt=\"Open In Colab\"/></a>"
      ]
    },
    {
      "cell_type": "markdown",
      "source": [
        "# **1. Simple Arithmetic**"
      ],
      "metadata": {
        "id": "HyebqwWsYAEO"
      }
    },
    {
      "cell_type": "markdown",
      "source": [
        "## Addition"
      ],
      "metadata": {
        "id": "mGiGEi_2aQsH"
      }
    },
    {
      "cell_type": "code",
      "source": [
        "import numpy as np\n",
        "\n",
        "arr1 = np.array([10, 11, 12, 13, 14, 15])\n",
        "arr2 = np.array([20, 21, 22, 23, 24, 25])\n",
        "\n",
        "new_arr = np.add(arr1,arr2)\n",
        "print(newarr)"
      ],
      "metadata": {
        "colab": {
          "base_uri": "https://localhost:8080/"
        },
        "id": "Ccq0p3h3aHmW",
        "outputId": "c7317c92-0fc9-4ee5-dbc5-b1a89eb93638"
      },
      "execution_count": 2,
      "outputs": [
        {
          "output_type": "stream",
          "name": "stdout",
          "text": [
            "[30 32 34 36 38 40]\n"
          ]
        }
      ]
    },
    {
      "cell_type": "markdown",
      "source": [
        "## Subtraction"
      ],
      "metadata": {
        "id": "A7VSWHHSatMI"
      }
    },
    {
      "cell_type": "code",
      "source": [
        "import numpy as np\n",
        "\n",
        "arr1 = np.array([10, 20, 30, 40, 50, 60])\n",
        "arr2 = np.array([20, 21, 22, 23, 24, 25])\n",
        "\n",
        "newarr = np.subtract(arr1, arr2)\n",
        "\n",
        "print(newarr)"
      ],
      "metadata": {
        "colab": {
          "base_uri": "https://localhost:8080/"
        },
        "id": "u9Wm8AJwawXa",
        "outputId": "9da1b207-4bdb-4e29-c758-fcc7301706ea"
      },
      "execution_count": 4,
      "outputs": [
        {
          "output_type": "stream",
          "name": "stdout",
          "text": [
            "[-10  -1   8  17  26  35]\n"
          ]
        }
      ]
    },
    {
      "cell_type": "markdown",
      "source": [
        "## Multiplication"
      ],
      "metadata": {
        "id": "vSovHO9Ca7Py"
      }
    },
    {
      "cell_type": "code",
      "source": [
        "import numpy as np\n",
        "\n",
        "arr1 = np.array([10, 20, 30, 40, 50, 60])\n",
        "arr2 = np.array([20, 21, 22, 23, 24, 25])\n",
        "\n",
        "newarr = np.multiply(arr1, arr2)\n",
        "\n",
        "print(newarr)"
      ],
      "metadata": {
        "id": "tS7_uEwEa8RK"
      },
      "execution_count": null,
      "outputs": []
    },
    {
      "cell_type": "markdown",
      "source": [
        "## Division"
      ],
      "metadata": {
        "id": "nYzSnUsoa-Sw"
      }
    },
    {
      "cell_type": "code",
      "source": [
        "import numpy as np\n",
        "\n",
        "arr1 = np.array([10, 20, 30, 40, 50, 60])\n",
        "arr2 = np.array([3, 5, 10, 8, 2, 33])\n",
        "\n",
        "newarr = np.divide(arr1, arr2)\n",
        "\n",
        "print(newarr)"
      ],
      "metadata": {
        "colab": {
          "base_uri": "https://localhost:8080/"
        },
        "id": "wRo14CQlbA-g",
        "outputId": "cebc9b1b-c206-4a66-d1a7-41d6c7730337"
      },
      "execution_count": 5,
      "outputs": [
        {
          "output_type": "stream",
          "name": "stdout",
          "text": [
            "[ 3.33333333  4.          3.          5.         25.          1.81818182]\n"
          ]
        }
      ]
    },
    {
      "cell_type": "markdown",
      "source": [
        "## Power"
      ],
      "metadata": {
        "id": "SEedVLIgbIIj"
      }
    },
    {
      "cell_type": "code",
      "source": [
        "import numpy as np\n",
        "\n",
        "arr1 = np.array([10, 20, 30, 40, 50, 60])\n",
        "arr2 = np.array([3, 5, 6, 8, 2, 3])\n",
        "\n",
        "newarr = np.power(arr1, arr2)\n",
        "\n",
        "print(newarr)"
      ],
      "metadata": {
        "colab": {
          "base_uri": "https://localhost:8080/"
        },
        "id": "HDFOGPLTbI1j",
        "outputId": "0b75adc1-6ad7-4ea6-c414-0ac42e9ae0e4"
      },
      "execution_count": 8,
      "outputs": [
        {
          "output_type": "stream",
          "name": "stdout",
          "text": [
            "[         1000       3200000     729000000 6553600000000          2500\n",
            "        216000]\n"
          ]
        }
      ]
    },
    {
      "cell_type": "markdown",
      "source": [
        "## Remainder"
      ],
      "metadata": {
        "id": "esfcLAMzbW2_"
      }
    },
    {
      "cell_type": "markdown",
      "source": [
        "Both the mod() and the remainder() functions return the remainder of the values in the first array corresponding to the values in the second array, and return the results in a new array."
      ],
      "metadata": {
        "id": "qvve1hopbhiJ"
      }
    },
    {
      "cell_type": "code",
      "source": [
        "import numpy as np\n",
        "\n",
        "arr1 = np.array([10, 20, 30, 40, 50, 60])\n",
        "arr2 = np.array([3, 7, 9, 8, 2, 33])\n",
        "\n",
        "newarr = np.mod(arr1, arr2)\n",
        "\n",
        "print(newarr)"
      ],
      "metadata": {
        "id": "NUErGnd7bX3F"
      },
      "execution_count": null,
      "outputs": []
    },
    {
      "cell_type": "markdown",
      "source": [
        "You get the same result when using the remainder() function:"
      ],
      "metadata": {
        "id": "qW_nDaElbiox"
      }
    },
    {
      "cell_type": "code",
      "source": [
        "import numpy as np\n",
        "\n",
        "arr1 = np.array([10, 20, 30, 40, 50, 60])\n",
        "arr2 = np.array([3, 7, 9, 8, 2, 33])\n",
        "\n",
        "newarr = np.remainder(arr1, arr2)\n",
        "\n",
        "print(newarr)"
      ],
      "metadata": {
        "id": "tCri-VOHbl1I"
      },
      "execution_count": null,
      "outputs": []
    },
    {
      "cell_type": "markdown",
      "source": [
        "## Quotient and Mod"
      ],
      "metadata": {
        "id": "AVmG8JStbZtY"
      }
    },
    {
      "cell_type": "markdown",
      "source": [
        "The divmod() function return both the quotient and the mod. The return value is two arrays, the first array contains the quotient and second array contains the mod."
      ],
      "metadata": {
        "id": "_m5TwoNIbz-O"
      }
    },
    {
      "cell_type": "code",
      "source": [
        "import numpy as np\n",
        "\n",
        "arr1 = np.array([10, 20, 30, 40, 50, 60])\n",
        "arr2 = np.array([3, 7, 9, 8, 2, 33])\n",
        "\n",
        "newarr = np.divmod(arr1, arr2)\n",
        "\n",
        "print(newarr)"
      ],
      "metadata": {
        "colab": {
          "base_uri": "https://localhost:8080/"
        },
        "id": "x5ec3wbNbtUd",
        "outputId": "9eb67453-d195-4d6e-aae5-42036d2ca418"
      },
      "execution_count": 9,
      "outputs": [
        {
          "output_type": "stream",
          "name": "stdout",
          "text": [
            "(array([ 3,  2,  3,  5, 25,  1]), array([ 1,  6,  3,  0,  0, 27]))\n"
          ]
        }
      ]
    },
    {
      "cell_type": "markdown",
      "source": [
        "## Absolute Values"
      ],
      "metadata": {
        "id": "xomU80bvb-MH"
      }
    },
    {
      "cell_type": "code",
      "source": [
        "import numpy as np\n",
        "\n",
        "arr = np.array([-1, -2, 1, 2, 3, -4])\n",
        "\n",
        "newarr = np.absolute(arr)\n",
        "\n",
        "print(newarr)"
      ],
      "metadata": {
        "id": "jNMFNdyGb_fl"
      },
      "execution_count": null,
      "outputs": []
    },
    {
      "cell_type": "markdown",
      "source": [
        "# **2. Rounding Decimals**\n"
      ],
      "metadata": {
        "id": "2bGb5MCGcWmF"
      }
    },
    {
      "cell_type": "markdown",
      "source": [
        "## Truncation\n"
      ],
      "metadata": {
        "id": "9veHfxGJcogT"
      }
    },
    {
      "cell_type": "markdown",
      "source": [
        "Remove the decimals, and return the float number closest to zero. Use the trunc() and fix() functions."
      ],
      "metadata": {
        "id": "oXTRyCchcrvv"
      }
    },
    {
      "cell_type": "code",
      "source": [
        "import numpy as np\n",
        "\n",
        "arr = np.trunc([-3.1666, 3.6667])\n",
        "\n",
        "print(arr)"
      ],
      "metadata": {
        "colab": {
          "base_uri": "https://localhost:8080/"
        },
        "id": "DT_VP5EbcsPQ",
        "outputId": "108e32d5-dedc-4c07-e796-0e35d3362f2e"
      },
      "execution_count": 10,
      "outputs": [
        {
          "output_type": "stream",
          "name": "stdout",
          "text": [
            "[-3.  3.]\n"
          ]
        }
      ]
    },
    {
      "cell_type": "markdown",
      "source": [
        "Same example, using fix():"
      ],
      "metadata": {
        "id": "Old67Talc8Tk"
      }
    },
    {
      "cell_type": "code",
      "source": [
        "import numpy as np\n",
        "arr = np.fix([-3.1666, 3.6667])\n",
        "print(arr)"
      ],
      "metadata": {
        "colab": {
          "base_uri": "https://localhost:8080/"
        },
        "id": "BCApglRbc8vH",
        "outputId": "a7a091ea-ec7a-4546-c0a7-8aeb6aa5694d"
      },
      "execution_count": 11,
      "outputs": [
        {
          "output_type": "stream",
          "name": "stdout",
          "text": [
            "[-3.  3.]\n"
          ]
        }
      ]
    },
    {
      "cell_type": "markdown",
      "source": [
        "## Rounding"
      ],
      "metadata": {
        "id": "SwpqMEpXdZ_A"
      }
    },
    {
      "cell_type": "markdown",
      "source": [
        "The around() function increments preceding digit or decimal by 1 if >=5 else do nothing.\n",
        "\n",
        "E.g. round off to 1 decimal point, 3.16666 is 3.2\n",
        "\n"
      ],
      "metadata": {
        "id": "H3WCsaykd47o"
      }
    },
    {
      "cell_type": "code",
      "source": [
        "import numpy as np\n",
        "\n",
        "arr = np.around(3.1666, 2)\n",
        "\n",
        "print(arr)"
      ],
      "metadata": {
        "colab": {
          "base_uri": "https://localhost:8080/"
        },
        "id": "geqZKq5Rd9KB",
        "outputId": "44aa9668-a76e-49a9-8625-dd335d2489a1"
      },
      "execution_count": 20,
      "outputs": [
        {
          "output_type": "stream",
          "name": "stdout",
          "text": [
            "3.17\n"
          ]
        }
      ]
    },
    {
      "cell_type": "markdown",
      "source": [
        "## Floor"
      ],
      "metadata": {
        "id": "mVkmLrnDeTL5"
      }
    },
    {
      "cell_type": "markdown",
      "source": [
        "The floor() function rounds off decimal to nearest lower integer.\n",
        "\n",
        "E.g. floor of 3.166 is 3"
      ],
      "metadata": {
        "id": "YkN_2mRseUg6"
      }
    },
    {
      "cell_type": "code",
      "source": [
        "import numpy as np\n",
        "\n",
        "arr = np.floor([-3.1666, 3.6667])\n",
        "\n",
        "print(arr)"
      ],
      "metadata": {
        "colab": {
          "base_uri": "https://localhost:8080/"
        },
        "id": "5icNkN4FeWYH",
        "outputId": "7895797c-1e9c-44cc-8b01-bb9091484fb8"
      },
      "execution_count": 21,
      "outputs": [
        {
          "output_type": "stream",
          "name": "stdout",
          "text": [
            "[-4.  3.]\n"
          ]
        }
      ]
    },
    {
      "cell_type": "markdown",
      "source": [
        "## Ceil"
      ],
      "metadata": {
        "id": "m30gOD7AeadG"
      }
    },
    {
      "cell_type": "markdown",
      "source": [
        "The ceil() function rounds off decimal to nearest upper integer.\n",
        "\n",
        "E.g. ceil of 3.166 is 4"
      ],
      "metadata": {
        "id": "fGXedg1teduc"
      }
    },
    {
      "cell_type": "code",
      "source": [
        "import numpy as np\n",
        "\n",
        "arr = np.ceil([-3.1666, 3.6667])\n",
        "\n",
        "print(arr)"
      ],
      "metadata": {
        "colab": {
          "base_uri": "https://localhost:8080/"
        },
        "id": "HiPSR6rFegVy",
        "outputId": "d552aaff-8b00-4a0e-b770-b4277d9242a1"
      },
      "execution_count": 22,
      "outputs": [
        {
          "output_type": "stream",
          "name": "stdout",
          "text": [
            "[-3.  4.]\n"
          ]
        }
      ]
    },
    {
      "cell_type": "markdown",
      "source": [
        "# **3. NumPy Logs**"
      ],
      "metadata": {
        "id": "V-03nTwve-O1"
      }
    },
    {
      "cell_type": "markdown",
      "source": [
        "## Log at Base 2"
      ],
      "metadata": {
        "id": "4_DdhZkWfRCh"
      }
    },
    {
      "cell_type": "code",
      "source": [
        "import numpy as np\n",
        "\n",
        "arr = np.arange(1, 10)\n",
        "\n",
        "print(np.log2(arr))"
      ],
      "metadata": {
        "id": "eet0BE4XfSLc"
      },
      "execution_count": null,
      "outputs": []
    },
    {
      "cell_type": "markdown",
      "source": [
        "## Log at Base 10"
      ],
      "metadata": {
        "id": "gEQl0EHQfkC5"
      }
    },
    {
      "cell_type": "code",
      "source": [
        "import numpy as np\n",
        "\n",
        "arr = np.arange(1, 10)\n",
        "\n",
        "print(np.log10(arr))"
      ],
      "metadata": {
        "id": "6DOs4lRDfmZi"
      },
      "execution_count": null,
      "outputs": []
    },
    {
      "cell_type": "markdown",
      "source": [
        "## Natural Log, or Log at Base e"
      ],
      "metadata": {
        "id": "r-A84ESPfocX"
      }
    },
    {
      "cell_type": "code",
      "source": [
        "import numpy as np\n",
        "\n",
        "arr = np.arange(1, 10)\n",
        "\n",
        "print(np.log(arr))"
      ],
      "metadata": {
        "id": "s8hU7iZKftKn"
      },
      "execution_count": null,
      "outputs": []
    },
    {
      "cell_type": "markdown",
      "source": [
        "## Log at Any Base"
      ],
      "metadata": {
        "id": "VNdHqCW3fvcV"
      }
    },
    {
      "cell_type": "code",
      "source": [
        "from math import log\n",
        "import numpy as np\n",
        "\n",
        "nplog = np.frompyfunc(log, 2, 1)\n",
        "\n",
        "print(nplog(100, 15))"
      ],
      "metadata": {
        "colab": {
          "base_uri": "https://localhost:8080/"
        },
        "id": "A536K7-vfyIx",
        "outputId": "3cd9b275-6be7-4c75-fcd2-1043887babdf"
      },
      "execution_count": 24,
      "outputs": [
        {
          "output_type": "stream",
          "name": "stdout",
          "text": [
            "1.7005483074552052\n"
          ]
        }
      ]
    },
    {
      "cell_type": "markdown",
      "source": [
        "# **4. NumPy Summations**"
      ],
      "metadata": {
        "id": "Jh046GCHoy9P"
      }
    },
    {
      "cell_type": "markdown",
      "source": [
        "## Summations"
      ],
      "metadata": {
        "id": "g2ik9eyfpDXU"
      }
    },
    {
      "cell_type": "markdown",
      "source": [
        "What is the difference between summation and addition?\n",
        "\n",
        "Addition is done between two arguments whereas summation happens over n elements."
      ],
      "metadata": {
        "id": "h4sYM-UzpE53"
      }
    },
    {
      "cell_type": "code",
      "source": [
        "import numpy as np\n",
        "\n",
        "arr1 = np.array([1,2,3,4])\n",
        "arr2 = np.array([1,2,3,4])\n",
        "\n",
        "newarr1 = np.add(arr1, arr2)\n",
        "newarr2 = np.sum([arr1, arr2])\n",
        "\n",
        "\n",
        "print(newarr1)\n",
        "print(newarr2)"
      ],
      "metadata": {
        "id": "RjtUZbsZpIxK",
        "outputId": "036c231c-a9f9-40d1-a8af-c11a61ade49b",
        "colab": {
          "base_uri": "https://localhost:8080/"
        }
      },
      "execution_count": 3,
      "outputs": [
        {
          "output_type": "stream",
          "name": "stdout",
          "text": [
            "[2 4 6 8]\n",
            "20\n"
          ]
        }
      ]
    },
    {
      "cell_type": "markdown",
      "source": [
        "## Summation Over an Axis"
      ],
      "metadata": {
        "id": "uhws8nD1qp1q"
      }
    },
    {
      "cell_type": "markdown",
      "source": [
        "If you specify axis=1, NumPy will sum the numbers in each array."
      ],
      "metadata": {
        "id": "wjpoofHBqq80"
      }
    },
    {
      "cell_type": "code",
      "source": [
        "import numpy as np\n",
        "\n",
        "arr1 = np.array([2, 4, 6])\n",
        "arr2 = np.array([1, 2, 3])\n",
        "\n",
        "newarr = np.sum([arr1, arr2], axis=1)\n",
        "\n",
        "print(newarr)"
      ],
      "metadata": {
        "id": "0BDMxNP8qtSm",
        "outputId": "7adedb17-92a6-4a62-fa19-6986b5c931c9",
        "colab": {
          "base_uri": "https://localhost:8080/"
        }
      },
      "execution_count": 10,
      "outputs": [
        {
          "output_type": "stream",
          "name": "stdout",
          "text": [
            "[12  6]\n"
          ]
        }
      ]
    },
    {
      "cell_type": "markdown",
      "source": [
        "🔧 ماذا تعني axis=1؟\n",
        "\n",
        "axis=0: يجمع الصفوف (عموديًا).\n",
        "\n",
        "axis=1: يجمع الأعمدة (أفقيًا)."
      ],
      "metadata": {
        "id": "F8COShOAsLGa"
      }
    },
    {
      "cell_type": "markdown",
      "source": [
        "## Cummulative Sum"
      ],
      "metadata": {
        "id": "P8JMf8GMrhoF"
      }
    },
    {
      "cell_type": "markdown",
      "source": [
        "Cummulative sum means partially adding the elements in array.\n",
        "\n",
        "E.g. The partial sum of [1, 2, 3, 4] would be [1, 1+2, 1+2+3, 1+2+3+4] = [1, 3, 6, 10].\n",
        "\n",
        "Perfom partial sum with the cumsum() function."
      ],
      "metadata": {
        "id": "ZYM64DGrripV"
      }
    },
    {
      "cell_type": "code",
      "source": [
        "import numpy as np\n",
        "\n",
        "arr = np.array([1, 2, 3])\n",
        "\n",
        "newarr = np.cumsum(arr)\n",
        "\n",
        "print(newarr)"
      ],
      "metadata": {
        "id": "MbQ8h654rkz3",
        "outputId": "d8827f6e-da3c-4a1b-ad4e-c317d81a709b",
        "colab": {
          "base_uri": "https://localhost:8080/"
        }
      },
      "execution_count": 11,
      "outputs": [
        {
          "output_type": "stream",
          "name": "stdout",
          "text": [
            "[1 3 6]\n"
          ]
        }
      ]
    },
    {
      "cell_type": "markdown",
      "source": [
        "# **5. NumPy Products**"
      ],
      "metadata": {
        "id": "RJrguzFpsyfk"
      }
    },
    {
      "cell_type": "markdown",
      "source": [
        "## Products"
      ],
      "metadata": {
        "id": "vVgHihA9tGgO"
      }
    },
    {
      "cell_type": "code",
      "source": [
        "import numpy as np\n",
        "\n",
        "arr = np.array([1, 2, 3, 4])\n",
        "\n",
        "x = np.prod(arr)\n",
        "\n",
        "print(x)"
      ],
      "metadata": {
        "id": "s-sNLsNatJFq",
        "outputId": "b94beda6-fd63-4c0a-edb5-e0dc7be3a229",
        "colab": {
          "base_uri": "https://localhost:8080/"
        }
      },
      "execution_count": 12,
      "outputs": [
        {
          "output_type": "stream",
          "name": "stdout",
          "text": [
            "24\n"
          ]
        }
      ]
    },
    {
      "cell_type": "markdown",
      "source": [
        "2 × 3 × 4 = 24\n"
      ],
      "metadata": {
        "id": "hkWEpSoqtoSY"
      }
    },
    {
      "cell_type": "code",
      "source": [
        "import numpy as np\n",
        "\n",
        "arr1 = np.array([1, 2, 3, 4])\n",
        "arr2 = np.array([5, 6, 7, 8])\n",
        "\n",
        "x = np.prod([arr1, arr2])\n",
        "\n",
        "print(x)"
      ],
      "metadata": {
        "id": "a3m_UNz3tutH",
        "outputId": "23b9fcf8-a763-429b-8963-60c27e991a11",
        "colab": {
          "base_uri": "https://localhost:8080/"
        }
      },
      "execution_count": 13,
      "outputs": [
        {
          "output_type": "stream",
          "name": "stdout",
          "text": [
            "40320\n"
          ]
        }
      ]
    },
    {
      "cell_type": "markdown",
      "source": [
        "1 × 2 × 3 × 4 × 5 × 6 × 7 × 8\n"
      ],
      "metadata": {
        "id": "Va6GvQ6bt4Ji"
      }
    },
    {
      "cell_type": "markdown",
      "source": [
        "## Product Over an Axis"
      ],
      "metadata": {
        "id": "PVQDr5JIuEHQ"
      }
    },
    {
      "cell_type": "code",
      "source": [
        "import numpy as np\n",
        "\n",
        "arr1 = np.array([1, 2, 3, 4])\n",
        "arr2 = np.array([5, 6, 7, 8])\n",
        "\n",
        "newarr = np.prod([arr1, arr2], axis=1)\n",
        "print(newarr)\n",
        "newarr = np.prod([arr1, arr2], axis=0)\n",
        "print(newarr)\n",
        "\n"
      ],
      "metadata": {
        "id": "ZSK51hJAuFn1",
        "outputId": "4885ee4e-1990-4f2a-e6e7-6eb2ca921cfb",
        "colab": {
          "base_uri": "https://localhost:8080/"
        }
      },
      "execution_count": 15,
      "outputs": [
        {
          "output_type": "stream",
          "name": "stdout",
          "text": [
            "[  24 1680]\n",
            "[ 5 12 21 32]\n"
          ]
        }
      ]
    },
    {
      "cell_type": "markdown",
      "source": [
        "## Cummulative Product"
      ],
      "metadata": {
        "id": "oOB7-p5duZI4"
      }
    },
    {
      "cell_type": "code",
      "source": [
        "import numpy as np\n",
        "\n",
        "arr = np.array([5, 6, 7, 8])\n",
        "\n",
        "newarr = np.cumprod(arr)\n",
        "\n",
        "print(newarr)"
      ],
      "metadata": {
        "id": "cl8vkRPVuihI",
        "outputId": "8e6394f6-e36f-41b6-af96-ead4d551952e",
        "colab": {
          "base_uri": "https://localhost:8080/"
        }
      },
      "execution_count": 16,
      "outputs": [
        {
          "output_type": "stream",
          "name": "stdout",
          "text": [
            "[   5   30  210 1680]\n"
          ]
        }
      ]
    },
    {
      "cell_type": "markdown",
      "source": [
        "🧮 حساب النتيجة:\n",
        "العنصر الأول:\n",
        "5 → (مافيش قبله حاجة)\n",
        "\n",
        "العنصر الثاني:\n",
        "5 × 6 = 30\n",
        "\n",
        "العنصر الثالث:\n",
        "5 × 6 × 7 = 210\n",
        "\n",
        "العنصر الرابع:\n",
        "5 × 6 × 7 × 8 = 1680\n",
        "\n"
      ],
      "metadata": {
        "id": "oSt0k4b6usQs"
      }
    },
    {
      "cell_type": "markdown",
      "source": [
        "# **6. NumPy Differences**"
      ],
      "metadata": {
        "id": "GvHakv8DvUsD"
      }
    },
    {
      "cell_type": "markdown",
      "source": [
        "## **Differences**"
      ],
      "metadata": {
        "id": "kY5FcWcQvgZO"
      }
    },
    {
      "cell_type": "code",
      "source": [
        "import numpy as np\n",
        "\n",
        "arr = np.array([10, 15, 25, 5])\n",
        "\n",
        "newarr = np.diff(arr)\n",
        "\n",
        "print(newarr)"
      ],
      "metadata": {
        "id": "4SMJhSXzvkdA",
        "outputId": "c3d2c85e-d99e-4036-9797-93656e4c4352",
        "colab": {
          "base_uri": "https://localhost:8080/"
        }
      },
      "execution_count": 17,
      "outputs": [
        {
          "output_type": "stream",
          "name": "stdout",
          "text": [
            "[  5  10 -20]\n"
          ]
        }
      ]
    },
    {
      "cell_type": "markdown",
      "source": [
        "نحسب الفروق بين كل عنصرين متتاليين:\n",
        "\n",
        "15 - 10 = 5\n",
        "\n",
        "25 - 15 = 10\n",
        "\n",
        "5 - 25 = -20"
      ],
      "metadata": {
        "id": "mx6WhBH1v1me"
      }
    },
    {
      "cell_type": "code",
      "source": [
        "import numpy as np\n",
        "\n",
        "arr = np.array([10, 15, 25, 5])\n",
        "\n",
        "newarr = np.diff(arr, n=2)\n",
        "\n",
        "print(newarr)"
      ],
      "metadata": {
        "id": "bokDPZhVwAZS",
        "outputId": "3091e0fb-4a78-4124-ef94-e4ee329237f7",
        "colab": {
          "base_uri": "https://localhost:8080/"
        }
      },
      "execution_count": 18,
      "outputs": [
        {
          "output_type": "stream",
          "name": "stdout",
          "text": [
            "[  5 -30]\n"
          ]
        }
      ]
    },
    {
      "cell_type": "markdown",
      "source": [
        "نحسب الفروق الأولى:\n",
        "\n",
        "15 - 10 = 5  \n",
        "25 - 15 = 10  \n",
        "5  - 25 = -20"
      ],
      "metadata": {
        "id": "llwsm9avwrLt"
      }
    },
    {
      "cell_type": "markdown",
      "source": [
        "🧮 خطوة 2 – diff الثانية (n=2):\n",
        "نأخذ الناتج من الخطوة 1 ونحسب الفرق بين عناصره:\n",
        "\n",
        "10 - 5  = 5  \n",
        "-20 - 10 = -30"
      ],
      "metadata": {
        "id": "VcPQzOLrws6-"
      }
    },
    {
      "cell_type": "markdown",
      "source": [
        "# **7. NumPy LCM**"
      ],
      "metadata": {
        "id": "o43VBjsoxwO9"
      }
    },
    {
      "cell_type": "markdown",
      "source": [
        "##**Finding LCM (Lowest Common Multiple)**"
      ],
      "metadata": {
        "id": "PHA04PhhyTc9"
      }
    },
    {
      "cell_type": "code",
      "source": [
        "import numpy as np\n",
        "\n",
        "num1 = 4\n",
        "num2 = 6\n",
        "\n",
        "x = np.lcm(num1, num2)\n",
        "\n",
        "print(x)"
      ],
      "metadata": {
        "id": "LhhztmbMyZlF",
        "outputId": "09bd4f3a-cf55-45ff-e61a-9e50f4236be1",
        "colab": {
          "base_uri": "https://localhost:8080/"
        }
      },
      "execution_count": 19,
      "outputs": [
        {
          "output_type": "stream",
          "name": "stdout",
          "text": [
            "12\n"
          ]
        }
      ]
    },
    {
      "cell_type": "markdown",
      "source": [
        "**الكود ده بيحسب الـ LCM (Least Common Multiple) أو \"أصغر مضاعف مشترك\" بين عددين باستخدام NumPy.**\n",
        "\n",
        "\n",
        "📘 ما هو np.lcm()\n",
        "الدالة np.lcm() ترجع أصغر عدد موجب يقبل القسمة على الرقمين بدون باقي.\n",
        "\n",
        "\n",
        "🧮 مثال:\n",
        "4 مضاعفاته: 4, 8, 12, 16, 20, ...\n",
        "\n",
        "6 مضاعفاته: 6, 12, 18, 24, ...\n",
        "\n",
        "أصغر رقم مشترك في المضاعفات = 12"
      ],
      "metadata": {
        "id": "-9XjxxLpynbH"
      }
    },
    {
      "cell_type": "markdown",
      "source": [
        "## Finding LCM in Arrays"
      ],
      "metadata": {
        "id": "IWuzcGcEzWlh"
      }
    },
    {
      "cell_type": "code",
      "source": [
        "import numpy as np\n",
        "\n",
        "arr = np.array([3, 6, 9])\n",
        "\n",
        "x = np.lcm.reduce(arr)\n",
        "\n",
        "print(x)"
      ],
      "metadata": {
        "id": "V-D9UOQCzeA0",
        "outputId": "cccba9ef-b4d4-4f76-b79e-65326e6bc4a5",
        "colab": {
          "base_uri": "https://localhost:8080/"
        }
      },
      "execution_count": 20,
      "outputs": [
        {
          "output_type": "stream",
          "name": "stdout",
          "text": [
            "18\n"
          ]
        }
      ]
    },
    {
      "cell_type": "code",
      "source": [
        "import numpy as np\n",
        "\n",
        "arr = np.arange(1, 11)\n",
        "\n",
        "x = np.lcm.reduce(arr)\n",
        "\n",
        "print(arr)\n",
        "\n",
        "print(x)"
      ],
      "metadata": {
        "id": "845pPT1GzjdW",
        "outputId": "bea0654d-5629-4689-ac0f-0a00a8b569c8",
        "colab": {
          "base_uri": "https://localhost:8080/"
        }
      },
      "execution_count": 22,
      "outputs": [
        {
          "output_type": "stream",
          "name": "stdout",
          "text": [
            "[ 1  2  3  4  5  6  7  8  9 10]\n",
            "2520\n"
          ]
        }
      ]
    },
    {
      "cell_type": "markdown",
      "source": [
        "# **8. NumPy GCD**"
      ],
      "metadata": {
        "id": "QIRZFLbuz-er"
      }
    },
    {
      "cell_type": "markdown",
      "source": [
        "## Finding GCD"
      ],
      "metadata": {
        "id": "4tI6QUnH0Hl5"
      }
    },
    {
      "cell_type": "code",
      "source": [
        "import numpy as np\n",
        "\n",
        "num1 = 6\n",
        "num2 = 9\n",
        "\n",
        "x = np.gcd(num1, num2)\n",
        "\n",
        "print(x)"
      ],
      "metadata": {
        "id": "QdgERzbY0JQ0",
        "outputId": "b0ef316f-ac3a-4808-beed-702fc3ec5496",
        "colab": {
          "base_uri": "https://localhost:8080/"
        }
      },
      "execution_count": 23,
      "outputs": [
        {
          "output_type": "stream",
          "name": "stdout",
          "text": [
            "3\n"
          ]
        }
      ]
    },
    {
      "cell_type": "markdown",
      "source": [
        "Returns: 3 because that is the highest number both numbers can be divided by (6/3=2 and 9/3=3)."
      ],
      "metadata": {
        "id": "-ImcWBb60VEY"
      }
    },
    {
      "cell_type": "markdown",
      "source": [
        "## Finding GCD in Arrays"
      ],
      "metadata": {
        "id": "6VlQyVG501oA"
      }
    },
    {
      "cell_type": "code",
      "source": [
        "import numpy as np\n",
        "\n",
        "arr = np.array([20, 8, 32, 36, 16])\n",
        "\n",
        "x = np.gcd.reduce(arr)\n",
        "\n",
        "print(x)"
      ],
      "metadata": {
        "id": "3-_0ThZd057o",
        "outputId": "a82d8af7-66c4-4b59-d8bc-c9b3c7c1d03f",
        "colab": {
          "base_uri": "https://localhost:8080/"
        }
      },
      "execution_count": 24,
      "outputs": [
        {
          "output_type": "stream",
          "name": "stdout",
          "text": [
            "4\n"
          ]
        }
      ]
    },
    {
      "cell_type": "markdown",
      "source": [
        "#**9. NumPy Trigonometric**"
      ],
      "metadata": {
        "id": "MZTCRkHK1Ubo"
      }
    },
    {
      "cell_type": "markdown",
      "source": [
        "## Trigonometric Functions"
      ],
      "metadata": {
        "id": "iZ0N0EQc1bJf"
      }
    },
    {
      "cell_type": "markdown",
      "source": [
        "NumPy provides the ufuncs sin(), cos() and tan() that take values in radians and produce the corresponding sin, cos and tan values."
      ],
      "metadata": {
        "id": "iSLAiwYd1ky4"
      }
    },
    {
      "cell_type": "code",
      "source": [
        "import numpy as np\n",
        "\n",
        "x = np.sin(np.pi/2)\n",
        "\n",
        "print(x)"
      ],
      "metadata": {
        "id": "9rOxVktw1pJh",
        "outputId": "6a50e7e0-2e49-443a-c5df-46a7b62cdd91",
        "colab": {
          "base_uri": "https://localhost:8080/"
        }
      },
      "execution_count": 25,
      "outputs": [
        {
          "output_type": "stream",
          "name": "stdout",
          "text": [
            "1.0\n"
          ]
        }
      ]
    },
    {
      "cell_type": "code",
      "source": [
        "import numpy as np\n",
        "\n",
        "arr = np.array([np.pi/2, np.pi/3, np.pi/4, np.pi/5])\n",
        "\n",
        "x = np.sin(arr)\n",
        "\n",
        "print(x)"
      ],
      "metadata": {
        "id": "TSK0_xRA11DO",
        "outputId": "8052379a-96d0-4987-a4ba-4c82735a429b",
        "colab": {
          "base_uri": "https://localhost:8080/"
        }
      },
      "execution_count": 26,
      "outputs": [
        {
          "output_type": "stream",
          "name": "stdout",
          "text": [
            "[1.         0.8660254  0.70710678 0.58778525]\n"
          ]
        }
      ]
    },
    {
      "cell_type": "markdown",
      "source": [
        "## Convert Degrees Into Radians"
      ],
      "metadata": {
        "id": "uOgKS0oL14lj"
      }
    },
    {
      "cell_type": "code",
      "source": [
        "import numpy as np\n",
        "\n",
        "arr = np.array([90, 180, 270, 360])\n",
        "\n",
        "x = np.deg2rad(arr)\n",
        "\n",
        "print(x)"
      ],
      "metadata": {
        "id": "129yACC_15qw",
        "outputId": "ee38c49b-9fd2-4225-a036-73e82f1b1579",
        "colab": {
          "base_uri": "https://localhost:8080/"
        }
      },
      "execution_count": 27,
      "outputs": [
        {
          "output_type": "stream",
          "name": "stdout",
          "text": [
            "[1.57079633 3.14159265 4.71238898 6.28318531]\n"
          ]
        }
      ]
    },
    {
      "cell_type": "markdown",
      "source": [
        "## Radians to Degrees"
      ],
      "metadata": {
        "id": "ptlToq2z2AKB"
      }
    },
    {
      "cell_type": "code",
      "source": [
        "import numpy as np\n",
        "\n",
        "arr = np.array([np.pi/2, np.pi, 1.5*np.pi, 2*np.pi])\n",
        "\n",
        "x = np.rad2deg(arr)\n",
        "\n",
        "print(x)"
      ],
      "metadata": {
        "id": "4xCkgYAc2BP6"
      },
      "execution_count": null,
      "outputs": []
    },
    {
      "cell_type": "markdown",
      "source": [
        "## Finding Angles"
      ],
      "metadata": {
        "id": "ckj8i1VD2IgV"
      }
    },
    {
      "cell_type": "markdown",
      "source": [
        "Finding angles from values of sine, cos, tan. E.g. sin, cos and tan inverse (arcsin, arccos, arctan).\n",
        "\n",
        "NumPy provides ufuncs arcsin(), arccos() and arctan() that produce radian values for corresponding sin, cos and tan values given."
      ],
      "metadata": {
        "id": "TwWrH_P82Lrx"
      }
    },
    {
      "cell_type": "code",
      "source": [
        "import numpy as np\n",
        "\n",
        "x = np.arcsin(1.0)\n",
        "\n",
        "print(x)"
      ],
      "metadata": {
        "id": "6xDRLwMU2JhO"
      },
      "execution_count": null,
      "outputs": []
    },
    {
      "cell_type": "markdown",
      "source": [
        "## Angles of Each Value in Arrays"
      ],
      "metadata": {
        "id": "7uT9lkJ92Qwd"
      }
    },
    {
      "cell_type": "code",
      "source": [
        "import numpy as np\n",
        "\n",
        "arr = np.array([1, -1, 0.1])\n",
        "\n",
        "x = np.arcsin(arr)\n",
        "\n",
        "print(x)"
      ],
      "metadata": {
        "id": "sxsr4SgM2Rq2"
      },
      "execution_count": null,
      "outputs": []
    },
    {
      "cell_type": "markdown",
      "source": [
        "## Hypotenues"
      ],
      "metadata": {
        "id": "3aIaSTVm2UVY"
      }
    },
    {
      "cell_type": "code",
      "source": [
        "import numpy as np\n",
        "\n",
        "base = 3\n",
        "perp = 4\n",
        "\n",
        "x = np.hypot(base, perp)\n",
        "\n",
        "print(x)"
      ],
      "metadata": {
        "id": "Wmmw2O2G2Wu4",
        "outputId": "5193229b-4b8d-4364-bff1-85fe913f6117",
        "colab": {
          "base_uri": "https://localhost:8080/"
        }
      },
      "execution_count": 28,
      "outputs": [
        {
          "output_type": "stream",
          "name": "stdout",
          "text": [
            "5.0\n"
          ]
        }
      ]
    },
    {
      "cell_type": "markdown",
      "source": [
        "# **10. NumPy Hyperbolic**"
      ],
      "metadata": {
        "id": "0UvOhDNX3JqK"
      }
    },
    {
      "cell_type": "markdown",
      "source": [
        "## Hyperbolic Functions\n"
      ],
      "metadata": {
        "id": "DBaRgIQw3P4M"
      }
    },
    {
      "cell_type": "markdown",
      "source": [
        "NumPy provides the ufuncs sinh(), cosh() and tanh() that take values in radians and produce the corresponding sinh, cosh and tanh values.."
      ],
      "metadata": {
        "id": "HR34q7kq3UYv"
      }
    },
    {
      "cell_type": "code",
      "source": [
        "import numpy as np\n",
        "\n",
        "x = np.sinh(np.pi/2)\n",
        "\n",
        "print(x)"
      ],
      "metadata": {
        "id": "RS-iRDix3YMY"
      },
      "execution_count": null,
      "outputs": []
    },
    {
      "cell_type": "code",
      "source": [
        "import numpy as np\n",
        "\n",
        "arr = np.array([np.pi/2, np.pi/3, np.pi/4, np.pi/5])\n",
        "\n",
        "x = np.cosh(arr)\n",
        "\n",
        "print(x)"
      ],
      "metadata": {
        "id": "tGCkR3Oq3aBU",
        "outputId": "d570dcc1-4f7c-4fee-a8d0-ab679b11fa78",
        "colab": {
          "base_uri": "https://localhost:8080/"
        }
      },
      "execution_count": 29,
      "outputs": [
        {
          "output_type": "stream",
          "name": "stdout",
          "text": [
            "[2.50917848 1.60028686 1.32460909 1.20397209]\n"
          ]
        }
      ]
    },
    {
      "cell_type": "markdown",
      "source": [
        "## Finding Angles\n"
      ],
      "metadata": {
        "id": "rFEJQ08x3gAx"
      }
    },
    {
      "cell_type": "markdown",
      "source": [
        "Finding angles from values of hyperbolic sine, cos, tan. E.g. sinh, cosh and tanh inverse (arcsinh, arccosh, arctanh).\n",
        "\n",
        "Numpy provides ufuncs arcsinh(), arccosh() and arctanh() that produce radian values for corresponding sinh, cosh and tanh values given."
      ],
      "metadata": {
        "id": "iuo26Qz43hvo"
      }
    },
    {
      "cell_type": "code",
      "source": [
        "import numpy as np\n",
        "\n",
        "x = np.arcsinh(1.0)\n",
        "\n",
        "print(x)"
      ],
      "metadata": {
        "id": "yK59koA53jiJ",
        "outputId": "f2fa560b-0c1b-405d-8f01-9daaadb2e454",
        "colab": {
          "base_uri": "https://localhost:8080/"
        }
      },
      "execution_count": 30,
      "outputs": [
        {
          "output_type": "stream",
          "name": "stdout",
          "text": [
            "0.881373587019543\n"
          ]
        }
      ]
    },
    {
      "cell_type": "code",
      "source": [
        "import numpy as np\n",
        "\n",
        "arr = np.array([0.1, 0.2, 0.5])\n",
        "\n",
        "x = np.arctanh(arr)\n",
        "\n",
        "print(x)"
      ],
      "metadata": {
        "id": "9OgfdESP3rtP"
      },
      "execution_count": null,
      "outputs": []
    },
    {
      "cell_type": "markdown",
      "source": [
        "# **11. NumPy Set Operations**"
      ],
      "metadata": {
        "id": "swoipKQY4IY6"
      }
    },
    {
      "cell_type": "markdown",
      "source": [
        "## What is a Set"
      ],
      "metadata": {
        "id": "Nz6Y_KG04SsI"
      }
    },
    {
      "cell_type": "markdown",
      "source": [
        "A set in mathematics is a collection of unique elements.\n",
        "\n",
        "Sets are used for operations involving frequent intersection, union and difference operations."
      ],
      "metadata": {
        "id": "zEHVBvEt4b0r"
      }
    },
    {
      "cell_type": "code",
      "source": [
        "import numpy as np\n",
        "\n",
        "arr = np.array([1, 1, 1, 2, 3, 4, 5, 5, 6, 7])\n",
        "\n",
        "x = np.unique(arr)\n",
        "print(x)"
      ],
      "metadata": {
        "id": "E_B61AEs4bFM",
        "outputId": "403b2596-1f9f-4e13-ee89-9b55eed573cb",
        "colab": {
          "base_uri": "https://localhost:8080/"
        }
      },
      "execution_count": 31,
      "outputs": [
        {
          "output_type": "stream",
          "name": "stdout",
          "text": [
            "[1 2 3 4 5 6 7]\n"
          ]
        }
      ]
    },
    {
      "cell_type": "markdown",
      "source": [
        "## Finding Union"
      ],
      "metadata": {
        "id": "BBUhZnlg4pRz"
      }
    },
    {
      "cell_type": "code",
      "source": [
        "import numpy as np\n",
        "\n",
        "arr1 = np.array([1, 2, 3, 4])\n",
        "arr2 = np.array([3, 4, 5, 6])\n",
        "\n",
        "newarr = np.union1d(arr1,arr2)\n",
        "\n",
        "print(newarr)"
      ],
      "metadata": {
        "id": "1OE5v_3i4qNR",
        "outputId": "db79b044-fead-4d1d-e0e9-edf8deae027f",
        "colab": {
          "base_uri": "https://localhost:8080/"
        }
      },
      "execution_count": 32,
      "outputs": [
        {
          "output_type": "stream",
          "name": "stdout",
          "text": [
            "[1 2 3 4 5 6]\n"
          ]
        }
      ]
    },
    {
      "cell_type": "markdown",
      "source": [
        "## Finding Intersection"
      ],
      "metadata": {
        "id": "L9Pu1VKI45Gs"
      }
    },
    {
      "cell_type": "code",
      "source": [
        "import numpy as np\n",
        "\n",
        "arr1 = np.array([1, 2, 3, 4])\n",
        "arr2 = np.array([3, 4, 5, 6])\n",
        "\n",
        "newarr = np.intersect1d(arr1, arr2, assume_unique=True)\n",
        "\n",
        "print(newarr)"
      ],
      "metadata": {
        "id": "3pCSdBwV45wC",
        "outputId": "7fed20c3-3a50-44af-d268-f2451712cd00",
        "colab": {
          "base_uri": "https://localhost:8080/"
        }
      },
      "execution_count": 34,
      "outputs": [
        {
          "output_type": "stream",
          "name": "stdout",
          "text": [
            "[3 4]\n"
          ]
        }
      ]
    },
    {
      "cell_type": "markdown",
      "source": [
        "assume_unique=True يعني أنك تفترض أن المصفوفات لا تحتوي على تكرارات. هذا يجعل العملية أسرع.\n",
        "\n"
      ],
      "metadata": {
        "id": "d3Vyagvk5KaN"
      }
    },
    {
      "cell_type": "markdown",
      "source": [
        "## Finding Difference"
      ],
      "metadata": {
        "id": "QQPZC5J75PZ6"
      }
    },
    {
      "cell_type": "code",
      "source": [
        "import numpy as np\n",
        "\n",
        "set1 = np.array([1, 2, 3, 4])\n",
        "set2 = np.array([3, 4, 5, 6])\n",
        "\n",
        "newarr = np.setdiff1d(set1, set2, assume_unique=True)\n",
        "\n",
        "print(newarr)"
      ],
      "metadata": {
        "id": "4Qxgi8705LCI",
        "outputId": "9bde8f7c-8902-4686-a6ce-1a2fef5fc1bb",
        "colab": {
          "base_uri": "https://localhost:8080/"
        }
      },
      "execution_count": 35,
      "outputs": [
        {
          "output_type": "stream",
          "name": "stdout",
          "text": [
            "[1 2]\n"
          ]
        }
      ]
    },
    {
      "cell_type": "markdown",
      "source": [
        "## Finding Symmetric Difference\n"
      ],
      "metadata": {
        "id": "INUX198X5Vtd"
      }
    },
    {
      "cell_type": "code",
      "source": [
        "import numpy as np\n",
        "\n",
        "set1 = np.array([1, 2, 3, 4])\n",
        "set2 = np.array([3, 4, 5, 6])\n",
        "\n",
        "newarr = np.setxor1d(set1, set2, assume_unique=True)\n",
        "\n",
        "print(newarr)"
      ],
      "metadata": {
        "id": "dgOA5aPw5bE_",
        "outputId": "3fd96d97-ec18-4e40-e3b3-bf9b302b94be",
        "colab": {
          "base_uri": "https://localhost:8080/"
        }
      },
      "execution_count": 36,
      "outputs": [
        {
          "output_type": "stream",
          "name": "stdout",
          "text": [
            "[1 2 5 6]\n"
          ]
        }
      ]
    }
  ]
}