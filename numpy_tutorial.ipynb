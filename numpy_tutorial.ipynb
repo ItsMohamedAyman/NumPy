{
  "nbformat": 4,
  "nbformat_minor": 0,
  "metadata": {
    "colab": {
      "provenance": [],
      "collapsed_sections": [
        "KynXnFJciMOA",
        "QmeAMciKiisW",
        "WuKIPzO-jqzM",
        "-0bkfFdklKS9",
        "fv2GIxNzn0fw",
        "dAa-c6_YTugL",
        "eVKZGjdhUthR",
        "MFgeqaV3VNsP",
        "uuLP9ktUWI1U",
        "8Y4aqhUrXrj1",
        "ykEWWkE1WNgt",
        "3xYjTRTvWTBB",
        "le411B5kp8wv",
        "xZmB4Oz9rCDK",
        "DeBI8cr5rK8s",
        "5iF9YSOGrVpV",
        "oYZ7h3nWWX0j",
        "ibciNlv_Wc5I",
        "rGbAsBEKPjiz",
        "8cA1tRKdPoaB",
        "jQkTDE3nQWfV",
        "4fW6Fd4mQu_0",
        "PmnZfylARBao",
        "vSFwFStIRNv9",
        "KveE3Pj7Wk2A",
        "6t66oHRgSaxL",
        "KFpsrQ8MSoms",
        "Vn2MvTCETQI5",
        "JrjiLcOlVBYR",
        "z5iYX29yV7c6",
        "39cd05wUXL8B",
        "6Jg8Qg2bXxwR",
        "zMV_D7EoWnjw",
        "8bhPj4XThrln",
        "IOr4N1jajQjo",
        "mUf1XbB_kLHT",
        "ETtt0AGRkcvp",
        "EbFcF_8Uksr2",
        "XAU45mQGWtxB",
        "UJ29G7oAbuSp",
        "Hvhr5tDgc__2",
        "3Wkg3jUndam_",
        "GmmtFxKUWyXA",
        "5C59_JLbe5lS",
        "yGzC32ktgMtp",
        "-4oHKZhbha26",
        "YzkslSNFW3GA",
        "KMcEMaO-iCEM",
        "ykkhftoTinXV",
        "pz2EgjktW5ml",
        "Sf3ltbtIjjSh",
        "YIYqVK2JlOrL",
        "OJDsXfEunAUk"
      ]
    },
    "kernelspec": {
      "name": "python3",
      "display_name": "Python 3"
    },
    "language_info": {
      "name": "python"
    }
  },
  "cells": [
    {
      "cell_type": "markdown",
      "source": [
        "# **1. Creating Arrays**"
      ],
      "metadata": {
        "id": "KynXnFJciMOA"
      }
    },
    {
      "cell_type": "markdown",
      "source": [
        "## Create a NumPy ndarray Object"
      ],
      "metadata": {
        "id": "QmeAMciKiisW"
      }
    },
    {
      "cell_type": "code",
      "source": [
        "import numpy as np\n",
        "\n",
        "List = [1, 2, 3, 4, 5]\n",
        "arr = np.array(List)\n",
        "\n",
        "print(arr)\n",
        "print(type(arr))"
      ],
      "metadata": {
        "colab": {
          "base_uri": "https://localhost:8080/"
        },
        "id": "-NLjX1I4iYTZ",
        "outputId": "05ee7a2b-ffda-465d-baea-1efadfff3f0e"
      },
      "execution_count": null,
      "outputs": [
        {
          "output_type": "stream",
          "name": "stdout",
          "text": [
            "[1 2 3 4 5]\n",
            "<class 'numpy.ndarray'>\n"
          ]
        }
      ]
    },
    {
      "cell_type": "markdown",
      "source": [
        "## Dimensions in Arrays"
      ],
      "metadata": {
        "id": "WuKIPzO-jqzM"
      }
    },
    {
      "cell_type": "markdown",
      "source": [
        "**A dimension in arrays is one level of array depth (nested arrays)**"
      ],
      "metadata": {
        "id": "7qMmJWG5juU9"
      }
    },
    {
      "cell_type": "markdown",
      "source": [
        "0-D Arrays"
      ],
      "metadata": {
        "id": "Y0jszggRj5SL"
      }
    },
    {
      "cell_type": "code",
      "source": [
        "import numpy as np\n",
        "\n",
        "arr = np.array(42)\n",
        "\n",
        "print(arr)"
      ],
      "metadata": {
        "id": "tAldk29kj_pd"
      },
      "execution_count": null,
      "outputs": []
    },
    {
      "cell_type": "markdown",
      "source": [
        "1-D Arrays"
      ],
      "metadata": {
        "id": "BPGkZPJwkDIv"
      }
    },
    {
      "cell_type": "code",
      "source": [
        "import numpy as np\n",
        "\n",
        "arr = np.array([1, 2, 3, 4, 5])\n",
        "\n",
        "print(arr)"
      ],
      "metadata": {
        "id": "c2wNmifTkIaP"
      },
      "execution_count": null,
      "outputs": []
    },
    {
      "cell_type": "markdown",
      "source": [
        "2-D Arrays"
      ],
      "metadata": {
        "id": "QKxeppjQkN50"
      }
    },
    {
      "cell_type": "code",
      "source": [
        "import numpy as np\n",
        "\n",
        "arr = np.array([[1, 2, 3], [4, 5, 6]])\n",
        "\n",
        "print(arr)"
      ],
      "metadata": {
        "colab": {
          "base_uri": "https://localhost:8080/"
        },
        "id": "4rZkFIX1kRcI",
        "outputId": "64222871-7ed7-499f-ceeb-6fdb9e823e05"
      },
      "execution_count": null,
      "outputs": [
        {
          "output_type": "stream",
          "name": "stdout",
          "text": [
            "[[1 2 3]\n",
            " [4 5 6]]\n"
          ]
        }
      ]
    },
    {
      "cell_type": "markdown",
      "source": [
        "3-D arrays"
      ],
      "metadata": {
        "id": "CeWrGxohkogY"
      }
    },
    {
      "cell_type": "code",
      "source": [
        "import numpy as np\n",
        "\n",
        "arr = np.array([[[1, 2, 3], [4, 5, 6]], [[7, 8, 9], [10, 11, 12]]])\n",
        "\n",
        "print(arr)"
      ],
      "metadata": {
        "colab": {
          "base_uri": "https://localhost:8080/"
        },
        "id": "NhZDGf2Ykm2r",
        "outputId": "5aafe9fd-f1be-471d-ef71-58ab7d34cf4c"
      },
      "execution_count": null,
      "outputs": [
        {
          "output_type": "stream",
          "name": "stdout",
          "text": [
            "[[[ 1  2  3]\n",
            "  [ 4  5  6]]\n",
            "\n",
            " [[ 7  8  9]\n",
            "  [10 11 12]]]\n"
          ]
        }
      ]
    },
    {
      "cell_type": "markdown",
      "source": [
        "## Check Number of Dimensions?"
      ],
      "metadata": {
        "id": "-0bkfFdklKS9"
      }
    },
    {
      "cell_type": "markdown",
      "source": [
        "NumPy Arrays provides the **ndim** attribute that returns an integer that tells us how many dimensions the array have."
      ],
      "metadata": {
        "id": "zodXr1m0la8j"
      }
    },
    {
      "cell_type": "code",
      "source": [
        "import numpy as np\n",
        "\n",
        "a = np.array(42)\n",
        "b = np.array([1, 2, 3, 4, 5])\n",
        "c = np.array([[1, 2, 3], [4, 5, 6]])\n",
        "d = np.array([[[1, 2, 3], [4, 5, 6]], [[1, 2, 3], [4, 5, 6]]])\n",
        "\n",
        "print(a.ndim)\n",
        "print(b.ndim)\n",
        "print(c.ndim)\n",
        "print(d.ndim)"
      ],
      "metadata": {
        "colab": {
          "base_uri": "https://localhost:8080/"
        },
        "id": "aJ7QDNB-lemk",
        "outputId": "99427240-5eed-499e-acf0-546c072aded5"
      },
      "execution_count": null,
      "outputs": [
        {
          "output_type": "stream",
          "name": "stdout",
          "text": [
            "0\n",
            "1\n",
            "2\n",
            "3\n"
          ]
        }
      ]
    },
    {
      "cell_type": "markdown",
      "source": [
        "## Higher Dimensional Arrays"
      ],
      "metadata": {
        "id": "RVY_RKEPlzqa"
      }
    },
    {
      "cell_type": "markdown",
      "source": [
        "An array can have any number of dimensions.\n",
        "\n",
        "When the array is created, you can define the number of dimensions by using the **ndmin** argument."
      ],
      "metadata": {
        "id": "fnQS2IpNl0vO"
      }
    },
    {
      "cell_type": "code",
      "source": [
        "import numpy as np\n",
        "\n",
        "arr = np.array([1, 2, 3, 4], ndmin=5)\n",
        "\n",
        "print(arr)\n",
        "print('number of dimensions :', arr.ndim)"
      ],
      "metadata": {
        "colab": {
          "base_uri": "https://localhost:8080/"
        },
        "id": "wYUJAVpWl49v",
        "outputId": "5f32d55b-2005-4f64-971a-02fe2d70e7f0"
      },
      "execution_count": null,
      "outputs": [
        {
          "output_type": "stream",
          "name": "stdout",
          "text": [
            "[[[[[1 2 3 4]]]]]\n",
            "number of dimensions : 5\n"
          ]
        }
      ]
    },
    {
      "cell_type": "markdown",
      "source": [
        "# **2. NumPy Array Indexing**"
      ],
      "metadata": {
        "id": "fv2GIxNzn0fw"
      }
    },
    {
      "cell_type": "markdown",
      "source": [
        "## Access Array Elements"
      ],
      "metadata": {
        "id": "dAa-c6_YTugL"
      }
    },
    {
      "cell_type": "code",
      "source": [
        "import numpy as np\n",
        "arr = np.array([1, 2, 3, 4])\n",
        "print(arr[0] + arr[3])"
      ],
      "metadata": {
        "colab": {
          "base_uri": "https://localhost:8080/"
        },
        "id": "9ycrKq02T1G5",
        "outputId": "02b8b720-9de6-4d59-9c81-48671d2928b6"
      },
      "execution_count": null,
      "outputs": [
        {
          "output_type": "stream",
          "name": "stdout",
          "text": [
            "5\n"
          ]
        }
      ]
    },
    {
      "cell_type": "markdown",
      "source": [
        "## Access 2-D Arrays"
      ],
      "metadata": {
        "id": "eVKZGjdhUthR"
      }
    },
    {
      "cell_type": "code",
      "source": [
        "import numpy as np\n",
        "\n",
        "arr = np.array([[1,2,3,4,5], [6,7,8,9,10]])\n",
        "\n",
        "print(f\"two elemnt in one set row: {arr[0,2]}\")"
      ],
      "metadata": {
        "colab": {
          "base_uri": "https://localhost:8080/"
        },
        "id": "O4cd4DF2UwBr",
        "outputId": "ed7d0de5-f3c1-41a3-8403-fd6c7b80c506"
      },
      "execution_count": null,
      "outputs": [
        {
          "output_type": "stream",
          "name": "stdout",
          "text": [
            "two elemnt in one set row 3\n"
          ]
        }
      ]
    },
    {
      "cell_type": "markdown",
      "source": [
        "## Access 3-D Arrays"
      ],
      "metadata": {
        "id": "MFgeqaV3VNsP"
      }
    },
    {
      "cell_type": "code",
      "source": [
        "import numpy as np\n",
        "\n",
        "arr = np.array([[[1, 2, 3], [4, 5, 6]], [[7, 8, 9], [10, 11, 12]]])\n",
        "\n",
        "print(arr[0, 1, 2])"
      ],
      "metadata": {
        "colab": {
          "base_uri": "https://localhost:8080/"
        },
        "id": "UEUPuLwCVPOd",
        "outputId": "c4bf1bf9-4d5c-458a-e1b1-0e4c8ddb1f1d"
      },
      "execution_count": null,
      "outputs": [
        {
          "output_type": "stream",
          "name": "stdout",
          "text": [
            "6\n"
          ]
        }
      ]
    },
    {
      "cell_type": "markdown",
      "source": [
        "# **3. NumPy Array Slicing**"
      ],
      "metadata": {
        "id": "uuLP9ktUWI1U"
      }
    },
    {
      "cell_type": "markdown",
      "source": [
        "## Slicing arrays"
      ],
      "metadata": {
        "id": "_y_Ir5URXEXl"
      }
    },
    {
      "cell_type": "markdown",
      "source": [
        "Slicing in python means taking elements from one given index to another given index.\n",
        "\n",
        "We pass slice instead of index like this: [start:end].\n",
        "\n",
        "We can also define the step, like this: [start:end:step].\n",
        "\n",
        "If we don't pass start its considered 0\n",
        "\n",
        "If we don't pass end its considered length of array in that dimension\n",
        "\n",
        "If we don't pass step its considered 1"
      ],
      "metadata": {
        "id": "CKgWq7N0XF-F"
      }
    },
    {
      "cell_type": "code",
      "source": [
        "import numpy as np\n",
        "\n",
        "arr = np.array([1, 2, 3, 4, 5, 6, 7])\n",
        "\n",
        "print(arr[1:5])\n",
        "print(arr[4:])\n",
        "print(arr[:4])"
      ],
      "metadata": {
        "colab": {
          "base_uri": "https://localhost:8080/"
        },
        "id": "LuYChmrjXIyl",
        "outputId": "87a6bfec-d157-4e66-846a-13549daed784"
      },
      "execution_count": null,
      "outputs": [
        {
          "output_type": "stream",
          "name": "stdout",
          "text": [
            "[2 3 4 5]\n",
            "[5 6 7]\n"
          ]
        }
      ]
    },
    {
      "cell_type": "markdown",
      "source": [
        "## Negative Slicing"
      ],
      "metadata": {
        "id": "B17KMEJfXg9w"
      }
    },
    {
      "cell_type": "code",
      "source": [
        "import numpy as np\n",
        "\n",
        "arr = np.array([1, 2, 3, 4, 5, 6, 7])\n",
        "\n",
        "print(arr[-3:-1])"
      ],
      "metadata": {
        "colab": {
          "base_uri": "https://localhost:8080/"
        },
        "id": "gO3YI96TXiIy",
        "outputId": "e056ec95-b07a-475d-b96d-78e8cfb00cd7"
      },
      "execution_count": null,
      "outputs": [
        {
          "output_type": "stream",
          "name": "stdout",
          "text": [
            "[5 6]\n"
          ]
        }
      ]
    },
    {
      "cell_type": "markdown",
      "source": [
        "##STEP"
      ],
      "metadata": {
        "id": "8Y4aqhUrXrj1"
      }
    },
    {
      "cell_type": "code",
      "source": [
        "import numpy as np\n",
        "\n",
        "arr = np.array([1, 2, 3, 4, 5, 6, 7])\n",
        "\n",
        "print(arr[1:5:2])\n",
        "print(arr[::2])\n"
      ],
      "metadata": {
        "colab": {
          "base_uri": "https://localhost:8080/"
        },
        "id": "MJkFEUYyXxE-",
        "outputId": "16e2a266-7b57-46c4-ea66-51d4ba682d6e"
      },
      "execution_count": null,
      "outputs": [
        {
          "output_type": "stream",
          "name": "stdout",
          "text": [
            "[2 4]\n",
            "[1 3 5 7]\n"
          ]
        }
      ]
    },
    {
      "cell_type": "markdown",
      "source": [
        "## Slicing 2-D Arrays"
      ],
      "metadata": {
        "id": "O3C0Sv5GYKRQ"
      }
    },
    {
      "cell_type": "code",
      "source": [
        "import numpy as np\n",
        "\n",
        "arr = np.array([[1, 2, 3, 4, 5], [6, 7, 8, 9, 10]])\n",
        "\n",
        "print(arr[1,1:3])\n",
        "print(arr[0:2, 2])\n",
        "print(arr[0:2, 1:4])"
      ],
      "metadata": {
        "colab": {
          "base_uri": "https://localhost:8080/"
        },
        "id": "JpV_p3pxYN1I",
        "outputId": "cac95c66-4166-4c20-a9bd-11490c51cb14"
      },
      "execution_count": null,
      "outputs": [
        {
          "output_type": "stream",
          "name": "stdout",
          "text": [
            "[7 8]\n",
            "[3 8]\n",
            "[[2 3 4]\n",
            " [7 8 9]]\n"
          ]
        }
      ]
    },
    {
      "cell_type": "markdown",
      "source": [
        "# **4. NumPy Data Types**"
      ],
      "metadata": {
        "id": "ykEWWkE1WNgt"
      }
    },
    {
      "cell_type": "markdown",
      "source": [
        "## Data Types in NumPy"
      ],
      "metadata": {
        "id": "ltiBiA7-eN27"
      }
    },
    {
      "cell_type": "markdown",
      "source": [
        "i - integer\n",
        "\n",
        "b - boolean\n",
        "\n",
        "u - unsigned integer\n",
        "\n",
        "f - float\n",
        "\n",
        "c - complex float\n",
        "\n",
        "m - timedelta\n",
        "\n",
        "M - datetime\n",
        "\n",
        "O - object\n",
        "\n",
        "S - string\n",
        "\n",
        "U - unicode string\n",
        "\n",
        "V - fixed chunk of memory for other type ( void )\n"
      ],
      "metadata": {
        "id": "HrhiQqt2eQ65"
      }
    },
    {
      "cell_type": "markdown",
      "source": [
        "## Checking the Data Type of an Array"
      ],
      "metadata": {
        "id": "NrB9knr0ekav"
      }
    },
    {
      "cell_type": "markdown",
      "source": [
        "The NumPy array object has a property called **dtype** that returns the data type of the array:"
      ],
      "metadata": {
        "id": "VM9yzwvuel6o"
      }
    },
    {
      "cell_type": "code",
      "source": [
        "import numpy as np\n",
        "\n",
        "arr = np.array([1, 2, 3, 4])\n",
        "arr = np.array(['apple', 'banana', 'cherry'])\n",
        "\n",
        "print(arr.dtype)\n",
        "print(arr.dtype)"
      ],
      "metadata": {
        "colab": {
          "base_uri": "https://localhost:8080/"
        },
        "id": "GJWvuLnwevoy",
        "outputId": "c47a45b2-a9ad-4f5b-f1ff-a60a6a61f676"
      },
      "execution_count": null,
      "outputs": [
        {
          "output_type": "stream",
          "name": "stdout",
          "text": [
            "<U6\n",
            "<U6\n"
          ]
        }
      ]
    },
    {
      "cell_type": "markdown",
      "source": [
        "## Creating Arrays With a Defined Data Type"
      ],
      "metadata": {
        "id": "9gI6EuFQfcmI"
      }
    },
    {
      "cell_type": "markdown",
      "source": [
        "We use the **array ()** function to create arrays, this function can take an optional argument: **dtype** that allows us to define the expected data type of the array elements"
      ],
      "metadata": {
        "id": "58fcdJDMfp6_"
      }
    },
    {
      "cell_type": "code",
      "source": [
        "import numpy as np\n",
        "\n",
        "arr = np.array([10, 20, 30, 40], dtype='S')\n",
        "\n",
        "print(arr)\n",
        "print(arr.dtype)"
      ],
      "metadata": {
        "colab": {
          "base_uri": "https://localhost:8080/"
        },
        "id": "xzXgLyx_f5Ff",
        "outputId": "20e9feff-9ff8-4d2f-c835-452a6e086064"
      },
      "execution_count": null,
      "outputs": [
        {
          "output_type": "stream",
          "name": "stdout",
          "text": [
            "[b'10' b'20' b'30' b'40']\n",
            "|S2\n"
          ]
        }
      ]
    },
    {
      "cell_type": "markdown",
      "source": [
        "For i, u, f, S and U we can define size as well."
      ],
      "metadata": {
        "id": "HwTlxaK6hJ1I"
      }
    },
    {
      "cell_type": "code",
      "source": [
        "#Create an array with data type 4 bytes integer:\n",
        "import numpy as np\n",
        "\n",
        "arr = np.array([1, 2, 3, 4], dtype='i4')\n",
        "\n",
        "print(arr)\n",
        "print(arr.dtype)"
      ],
      "metadata": {
        "colab": {
          "base_uri": "https://localhost:8080/"
        },
        "id": "eL74CN4EhK0Z",
        "outputId": "264b360f-cd04-46fe-dd2d-a6f66a91dc75"
      },
      "execution_count": null,
      "outputs": [
        {
          "output_type": "stream",
          "name": "stdout",
          "text": [
            "[1 2 3 4]\n",
            "int32\n"
          ]
        }
      ]
    },
    {
      "cell_type": "markdown",
      "source": [
        "## Converting Data Type on Existing Arrays"
      ],
      "metadata": {
        "id": "u8XFgMKXhoat"
      }
    },
    {
      "cell_type": "markdown",
      "source": [
        "The best way to change the data type of an existing array, is to make a copy of the array with the astype() method.\n",
        "\n",
        "The astype() function creates a copy of the array, and allows you to specify the data type as a parameter.\n",
        "\n",
        "The data type can be specified using a string, like 'f' for float, 'i' for integer etc. or you can use the data type directly like float for float and int for integer."
      ],
      "metadata": {
        "id": "znbf-vxBhyKg"
      }
    },
    {
      "cell_type": "code",
      "source": [
        "import numpy as np\n",
        "arr = np.array([1.1, 2.2, 3.3, 4.4])\n",
        "\n",
        "new_arr1 = arr.astype(\"I\")\n",
        "new_arr2 = arr.astype(int)\n",
        "\n",
        "print(new_arr1)\n",
        "print(new_arr1.dtype)\n",
        "print(new_arr2)\n",
        "print(new_arr2.dtype)"
      ],
      "metadata": {
        "colab": {
          "base_uri": "https://localhost:8080/"
        },
        "id": "43j2U7EvibGk",
        "outputId": "328ed152-9f83-4db3-c2d0-268a48e12a30"
      },
      "execution_count": null,
      "outputs": [
        {
          "output_type": "stream",
          "name": "stdout",
          "text": [
            "[1 2 3 4]\n",
            "uint32\n",
            "[1 2 3 4]\n",
            "int64\n"
          ]
        }
      ]
    },
    {
      "cell_type": "code",
      "source": [
        "import numpy as np\n",
        "\n",
        "arr = np.array([1, 0, 3, -2])\n",
        "\n",
        "newarr = arr.astype(bool)\n",
        "\n",
        "print(newarr)\n",
        "print(newarr.dtype)"
      ],
      "metadata": {
        "colab": {
          "base_uri": "https://localhost:8080/"
        },
        "id": "1arWdiqpjqNQ",
        "outputId": "b16dd0a2-7e32-4bc4-f2ca-76cd22ce6263"
      },
      "execution_count": null,
      "outputs": [
        {
          "output_type": "stream",
          "name": "stdout",
          "text": [
            "[ True False  True  True]\n",
            "bool\n"
          ]
        }
      ]
    },
    {
      "cell_type": "markdown",
      "source": [
        "# **5. NumPy Array Copy vs View**"
      ],
      "metadata": {
        "id": "3xYjTRTvWTBB"
      }
    },
    {
      "cell_type": "markdown",
      "source": [
        "## Copy:"
      ],
      "metadata": {
        "id": "le411B5kp8wv"
      }
    },
    {
      "cell_type": "code",
      "source": [
        "import numpy as np\n",
        "arr = np.array([1,2,3,4,5])\n",
        "x = arr.copy()\n",
        "arr[0] = 42\n",
        "\n",
        "print(arr)\n",
        "print(x)\n"
      ],
      "metadata": {
        "colab": {
          "base_uri": "https://localhost:8080/"
        },
        "id": "1mB5KGaLqKBH",
        "outputId": "7a8994ec-2832-4801-a0cc-931942536f27"
      },
      "execution_count": null,
      "outputs": [
        {
          "output_type": "stream",
          "name": "stdout",
          "text": [
            "[42  2  3  4  5]\n",
            "[1 2 3 4 5]\n"
          ]
        }
      ]
    },
    {
      "cell_type": "markdown",
      "source": [
        "## view:"
      ],
      "metadata": {
        "id": "xZmB4Oz9rCDK"
      }
    },
    {
      "cell_type": "code",
      "source": [
        "import numpy as np\n",
        "\n",
        "arr = np.array([1, 2, 3, 4, 5])\n",
        "x = arr.view()\n",
        "arr[0] = 42\n",
        "\n",
        "print(arr)\n",
        "print(x)\n"
      ],
      "metadata": {
        "colab": {
          "base_uri": "https://localhost:8080/"
        },
        "id": "zffXBJoHrEnx",
        "outputId": "8a73b3d7-5e93-4834-8d53-f9044bd66cf1"
      },
      "execution_count": null,
      "outputs": [
        {
          "output_type": "stream",
          "name": "stdout",
          "text": [
            "[42  2  3  4  5]\n",
            "[42  2  3  4  5]\n"
          ]
        }
      ]
    },
    {
      "cell_type": "markdown",
      "source": [
        "## Make Changes in the VIEW"
      ],
      "metadata": {
        "id": "DeBI8cr5rK8s"
      }
    },
    {
      "cell_type": "code",
      "source": [
        "import numpy as np\n",
        "\n",
        "arr = np.array([1, 2, 3, 4, 5])\n",
        "x = arr.view()\n",
        "x[0] = 31\n",
        "\n",
        "print(arr)\n",
        "print(x)"
      ],
      "metadata": {
        "colab": {
          "base_uri": "https://localhost:8080/"
        },
        "id": "9MDMuIDjrL9r",
        "outputId": "27efb8dc-74b9-474f-efc6-6f637f8d41ef"
      },
      "execution_count": null,
      "outputs": [
        {
          "output_type": "stream",
          "name": "stdout",
          "text": [
            "[31  2  3  4  5]\n",
            "[31  2  3  4  5]\n"
          ]
        }
      ]
    },
    {
      "cell_type": "markdown",
      "source": [
        "## Check if Array Owns its Data"
      ],
      "metadata": {
        "id": "5iF9YSOGrVpV"
      }
    },
    {
      "cell_type": "markdown",
      "source": [
        "As mentioned above, copies owns the data, and views does not own the data, but how can we check this?\n",
        "\n",
        "Every NumPy array has the attribute base that returns None if the array owns the data.\n",
        "\n",
        "Otherwise, the base  attribute refers to the original object."
      ],
      "metadata": {
        "id": "3NXpTM8ArfGh"
      }
    },
    {
      "cell_type": "code",
      "source": [
        "import numpy as np\n",
        "\n",
        "arr = np.array([1, 2, 3, 4, 5])\n",
        "\n",
        "x = arr.copy()\n",
        "y = arr.view()\n",
        "\n",
        "print(x.base)\n",
        "print(y.base)"
      ],
      "metadata": {
        "colab": {
          "base_uri": "https://localhost:8080/"
        },
        "id": "rn6ngdBvr0op",
        "outputId": "ad7a5f35-04b2-4b31-aac2-69ad2bcc25e8"
      },
      "execution_count": null,
      "outputs": [
        {
          "output_type": "stream",
          "name": "stdout",
          "text": [
            "None\n",
            "[1 2 3 4 5]\n"
          ]
        }
      ]
    },
    {
      "cell_type": "markdown",
      "source": [
        "# **6. NumPy Array Shape**"
      ],
      "metadata": {
        "id": "oYZ7h3nWWX0j"
      }
    },
    {
      "cell_type": "markdown",
      "source": [
        "## Get the Shape of an Array"
      ],
      "metadata": {
        "id": "hu-Vfec0sYPv"
      }
    },
    {
      "cell_type": "markdown",
      "source": [
        "NumPy arrays have an attribute called **shape** that returns a tuple with each index having the number of corresponding elements."
      ],
      "metadata": {
        "id": "l6zP9k7esZ6f"
      }
    },
    {
      "cell_type": "code",
      "source": [
        "import numpy as np\n",
        "\n",
        "arr = np.array([[1, 2, 3, 4],\n",
        "                [5, 6, 7, 8]])\n",
        "\n",
        "print(arr.shape)\n",
        "\n"
      ],
      "metadata": {
        "colab": {
          "base_uri": "https://localhost:8080/"
        },
        "id": "vfIxk3ODsk5X",
        "outputId": "fdcc8023-69c0-4dc5-ad37-148661c317cf"
      },
      "execution_count": null,
      "outputs": [
        {
          "output_type": "stream",
          "name": "stdout",
          "text": [
            "(2, 4)\n"
          ]
        }
      ]
    },
    {
      "cell_type": "code",
      "source": [
        "arr = np.array([1, 2, 3, 4], ndmin=5)\n",
        "\n",
        "print(arr)\n",
        "print('shape of array :', arr.shape)"
      ],
      "metadata": {
        "id": "P97yk3qWszs8",
        "outputId": "022d04a2-92e7-4ebb-cf40-9b522efb45c8",
        "colab": {
          "base_uri": "https://localhost:8080/"
        }
      },
      "execution_count": null,
      "outputs": [
        {
          "output_type": "stream",
          "name": "stdout",
          "text": [
            "[[[[[1 2 3 4]]]]]\n",
            "shape of array : (1, 1, 1, 1, 4)\n"
          ]
        }
      ]
    },
    {
      "cell_type": "markdown",
      "source": [
        "# **7. NumPy Array Reshaping**"
      ],
      "metadata": {
        "id": "ibciNlv_Wc5I"
      }
    },
    {
      "cell_type": "markdown",
      "source": [
        "## Reshaping arrays"
      ],
      "metadata": {
        "id": "rGbAsBEKPjiz"
      }
    },
    {
      "cell_type": "markdown",
      "source": [
        "Reshaping means changing the shape of an array.\n",
        "\n",
        "The shape of an array is the number of elements in each dimension.\n",
        "\n",
        "By reshaping we can add or remove dimensions or change number of elements in each dimension."
      ],
      "metadata": {
        "id": "V-D5iu52Pku0"
      }
    },
    {
      "cell_type": "markdown",
      "source": [
        "## Reshape From 1-D to 2-D"
      ],
      "metadata": {
        "id": "8cA1tRKdPoaB"
      }
    },
    {
      "cell_type": "code",
      "source": [
        "import numpy as np\n",
        "\n",
        "arr = np.array([1, 2, 3, 4, 5, 6, 7, 8, 9, 10, 11, 12])\n",
        "\n",
        "new_arr= arr.reshape(4,3)\n",
        "\n",
        "print(new_arr)"
      ],
      "metadata": {
        "colab": {
          "base_uri": "https://localhost:8080/"
        },
        "id": "juFYmp4zPrDu",
        "outputId": "ce379345-580e-48d1-9661-46c4c5854dfd"
      },
      "execution_count": null,
      "outputs": [
        {
          "output_type": "stream",
          "name": "stdout",
          "text": [
            "[[ 1  2  3]\n",
            " [ 4  5  6]\n",
            " [ 7  8  9]\n",
            " [10 11 12]]\n"
          ]
        }
      ]
    },
    {
      "cell_type": "markdown",
      "source": [
        "## Reshape From 1-D to 3-D"
      ],
      "metadata": {
        "id": "jQkTDE3nQWfV"
      }
    },
    {
      "cell_type": "code",
      "source": [
        "arr = np.array([1, 2, 3, 4, 5, 6, 7, 8, 9, 10, 11, 12])\n",
        "\n",
        "newarr = arr.reshape(2, 3, 2)\n",
        "\n",
        "print(newarr)"
      ],
      "metadata": {
        "colab": {
          "base_uri": "https://localhost:8080/"
        },
        "id": "S2JkZSrlQYIo",
        "outputId": "683f47f8-d9e7-4b04-dd46-fd70a1f26d65"
      },
      "execution_count": null,
      "outputs": [
        {
          "output_type": "stream",
          "name": "stdout",
          "text": [
            "[[[ 1  2]\n",
            "  [ 3  4]\n",
            "  [ 5  6]]\n",
            "\n",
            " [[ 7  8]\n",
            "  [ 9 10]\n",
            "  [11 12]]]\n"
          ]
        }
      ]
    },
    {
      "cell_type": "markdown",
      "source": [
        "## Returns Copy or View?"
      ],
      "metadata": {
        "id": "4fW6Fd4mQu_0"
      }
    },
    {
      "cell_type": "code",
      "source": [
        "import numpy as np\n",
        "\n",
        "arr = np.array([1, 2, 3, 4, 5, 6, 7, 8])\n",
        "\n",
        "print(arr.reshape(2, 4).base)"
      ],
      "metadata": {
        "colab": {
          "base_uri": "https://localhost:8080/"
        },
        "id": "26C6mjgGQwUJ",
        "outputId": "f51474bf-a250-44ff-f9c7-29772ae2bf8e"
      },
      "execution_count": null,
      "outputs": [
        {
          "output_type": "stream",
          "name": "stdout",
          "text": [
            "[1 2 3 4 5 6 7 8]\n"
          ]
        }
      ]
    },
    {
      "cell_type": "markdown",
      "source": [
        "## Unknown Dimension"
      ],
      "metadata": {
        "id": "PmnZfylARBao"
      }
    },
    {
      "cell_type": "markdown",
      "source": [
        "You are allowed to have one \"unknown\" dimension.\n",
        "\n",
        "Meaning that you do not have to specify an exact number for one of the dimensions in the reshape method.\n",
        "\n",
        "Pass -1 as the value, and NumPy will calculate this number for you."
      ],
      "metadata": {
        "id": "pSUm3J6GRCox"
      }
    },
    {
      "cell_type": "code",
      "source": [
        "import numpy as np\n",
        "\n",
        "arr = np.array([1, 2, 3, 4, 5, 6, 7, 8])\n",
        "\n",
        "newarr = arr.reshape(2, 2, -1)\n",
        "\n",
        "print(newarr)"
      ],
      "metadata": {
        "colab": {
          "base_uri": "https://localhost:8080/"
        },
        "id": "OvD1soZ_REzk",
        "outputId": "c0d29e58-768d-4768-f26d-2fe59b65097b"
      },
      "execution_count": null,
      "outputs": [
        {
          "output_type": "stream",
          "name": "stdout",
          "text": [
            "[[[1 2]\n",
            "  [3 4]]\n",
            "\n",
            " [[5 6]\n",
            "  [7 8]]]\n"
          ]
        }
      ]
    },
    {
      "cell_type": "markdown",
      "source": [
        "## Flattening the arrays"
      ],
      "metadata": {
        "id": "vSFwFStIRNv9"
      }
    },
    {
      "cell_type": "markdown",
      "source": [
        "Flattening array means converting a multidimensional array into a 1D array.\n",
        "\n",
        "We can use reshape(-1) to do this"
      ],
      "metadata": {
        "id": "lPk8NVQDRPMC"
      }
    },
    {
      "cell_type": "code",
      "source": [
        "import numpy as np\n",
        "\n",
        "arr = np.array([[1, 2, 3], [4, 5, 6]])\n",
        "\n",
        "newarr = arr.reshape(-1)\n",
        "\n",
        "print(newarr)\n"
      ],
      "metadata": {
        "colab": {
          "base_uri": "https://localhost:8080/"
        },
        "id": "mroiTnwHRR9e",
        "outputId": "3c203a06-f582-4e5e-da23-61a0c3ca4d40"
      },
      "execution_count": null,
      "outputs": [
        {
          "output_type": "stream",
          "name": "stdout",
          "text": [
            "[1 2 3 4 5 6]\n"
          ]
        }
      ]
    },
    {
      "cell_type": "markdown",
      "source": [
        "# **8. NumPy Array Iterating**"
      ],
      "metadata": {
        "id": "KveE3Pj7Wk2A"
      }
    },
    {
      "cell_type": "markdown",
      "source": [
        "## Iterating 1-D Arrays"
      ],
      "metadata": {
        "id": "6t66oHRgSaxL"
      }
    },
    {
      "cell_type": "code",
      "source": [
        "import numpy as np\n",
        "\n",
        "arr = np.array([1, 2, 3])\n",
        "\n",
        "for x in arr:\n",
        "  print(x)"
      ],
      "metadata": {
        "colab": {
          "base_uri": "https://localhost:8080/"
        },
        "id": "SEO9bL10ScoK",
        "outputId": "3b3ceb55-774a-4446-9307-4b9f322a576f"
      },
      "execution_count": null,
      "outputs": [
        {
          "output_type": "stream",
          "name": "stdout",
          "text": [
            "1\n",
            "2\n",
            "3\n"
          ]
        }
      ]
    },
    {
      "cell_type": "markdown",
      "source": [
        "## Iterating 2-D Arrays"
      ],
      "metadata": {
        "id": "KFpsrQ8MSoms"
      }
    },
    {
      "cell_type": "code",
      "source": [
        "import numpy as np\n",
        "\n",
        "arr = np.array([[1, 2, 3], [4, 5, 6]])\n",
        "\n",
        "for x in arr:\n",
        "  print(x)\n",
        "\n",
        "for x in arr:\n",
        "  for y in x:\n",
        "    print(y)"
      ],
      "metadata": {
        "colab": {
          "base_uri": "https://localhost:8080/"
        },
        "id": "g7wLSlyJSse8",
        "outputId": "3e094895-e249-45da-8281-28a84f0c32f7"
      },
      "execution_count": null,
      "outputs": [
        {
          "output_type": "stream",
          "name": "stdout",
          "text": [
            "[1 2 3]\n",
            "[4 5 6]\n",
            "1\n",
            "2\n",
            "3\n",
            "4\n",
            "5\n",
            "6\n"
          ]
        }
      ]
    },
    {
      "cell_type": "markdown",
      "source": [
        "## Iterating 3-D Arrays"
      ],
      "metadata": {
        "id": "Vn2MvTCETQI5"
      }
    },
    {
      "cell_type": "code",
      "source": [
        "import numpy as np\n",
        "\n",
        "arr = np.array( [[[1,2,3],[4,5,6]],[[7,8,9],[10,11,12]]] )\n",
        "\n",
        "for x in arr:\n",
        "  print(x)\n",
        "\n",
        "print(\"\\n\\n\")\n",
        "\n",
        "for x in arr:\n",
        "  for y in x:\n",
        "    print(y)\n",
        "\n",
        "print(\"\\n\\n\")\n",
        "\n",
        "for x in arr:\n",
        "  for y in x:\n",
        "    for z in y:\n",
        "      print(z)\n"
      ],
      "metadata": {
        "colab": {
          "base_uri": "https://localhost:8080/"
        },
        "id": "TGM-qFG6TR57",
        "outputId": "910af1fd-d935-4a73-95c7-425b27118f81"
      },
      "execution_count": null,
      "outputs": [
        {
          "output_type": "stream",
          "name": "stdout",
          "text": [
            "[[1 2 3]\n",
            " [4 5 6]]\n",
            "[[ 7  8  9]\n",
            " [10 11 12]]\n",
            "\n",
            "\n",
            "\n",
            "[1 2 3]\n",
            "[4 5 6]\n",
            "[7 8 9]\n",
            "[10 11 12]\n",
            "\n",
            "\n",
            "\n",
            "1\n",
            "2\n",
            "3\n",
            "4\n",
            "5\n",
            "6\n",
            "7\n",
            "8\n",
            "9\n",
            "10\n",
            "11\n",
            "12\n"
          ]
        }
      ]
    },
    {
      "cell_type": "markdown",
      "source": [
        "## Iterating Arrays Using nditer()"
      ],
      "metadata": {
        "id": "JrjiLcOlVBYR"
      }
    },
    {
      "cell_type": "code",
      "source": [
        "import numpy as np\n",
        "\n",
        "arr = np.array([[[1, 2], [3, 4]], [[5, 6], [7, 8]]])\n",
        "\n",
        "for x in np.nditer(arr):\n",
        "  print(x)"
      ],
      "metadata": {
        "colab": {
          "base_uri": "https://localhost:8080/"
        },
        "id": "w9bLHY0DVCws",
        "outputId": "92a4389c-6c22-44eb-9fd0-26c3c44d854a"
      },
      "execution_count": null,
      "outputs": [
        {
          "output_type": "stream",
          "name": "stdout",
          "text": [
            "1\n",
            "2\n",
            "3\n",
            "4\n",
            "5\n",
            "6\n",
            "7\n",
            "8\n"
          ]
        }
      ]
    },
    {
      "cell_type": "markdown",
      "source": [
        "## Iterating Array With Different Data Types"
      ],
      "metadata": {
        "id": "z5iYX29yV7c6"
      }
    },
    {
      "cell_type": "markdown",
      "source": [
        "We can use op_dtypes argument and pass it the expected datatype to change the datatype of elements while iterating.\n",
        "\n",
        "NumPy does not change the data type of the element in-place (where the element is in array) so it needs some other space to perform this action, that extra space is called buffer, and in order to enable it in nditer() we pass flags=['buffered']."
      ],
      "metadata": {
        "id": "jImNVq4xWgBA"
      }
    },
    {
      "cell_type": "code",
      "source": [
        "import numpy as np\n",
        "\n",
        "arr = np.array([1, 2, 3])\n",
        "\n",
        "for x in np.nditer(arr, flags=['buffered'], op_dtypes=['S']):\n",
        "  print(x)\n",
        "\n"
      ],
      "metadata": {
        "colab": {
          "base_uri": "https://localhost:8080/"
        },
        "id": "tEDxXbC0WC-I",
        "outputId": "21b5bb3c-08f4-4042-9c7c-56c2bcb1b0e6"
      },
      "execution_count": null,
      "outputs": [
        {
          "output_type": "stream",
          "name": "stdout",
          "text": [
            "np.bytes_(b'1')\n",
            "np.bytes_(b'2')\n",
            "np.bytes_(b'3')\n"
          ]
        }
      ]
    },
    {
      "cell_type": "markdown",
      "source": [
        "## Iterating With Different Step Size"
      ],
      "metadata": {
        "id": "39cd05wUXL8B"
      }
    },
    {
      "cell_type": "code",
      "source": [
        "import numpy as np\n",
        "\n",
        "arr = np.array([[1, 2, 3, 4], [5, 6, 7, 8]])\n",
        "\n",
        "for x in np.nditer(arr[:,::2]):\n",
        "  print(x)"
      ],
      "metadata": {
        "colab": {
          "base_uri": "https://localhost:8080/"
        },
        "id": "MApRKqD0XPN6",
        "outputId": "3347494e-8ae2-4a58-a5ec-a180e9796480"
      },
      "execution_count": null,
      "outputs": [
        {
          "output_type": "stream",
          "name": "stdout",
          "text": [
            "1\n",
            "3\n",
            "5\n",
            "7\n"
          ]
        }
      ]
    },
    {
      "cell_type": "markdown",
      "source": [
        "## Enumerated Iteration Using ndenumerate()"
      ],
      "metadata": {
        "id": "6Jg8Qg2bXxwR"
      }
    },
    {
      "cell_type": "markdown",
      "source": [
        "Enumeration means mentioning sequence number of somethings one by one.\n",
        "\n",
        "Sometimes we require corresponding index of the element while iterating, the ndenumerate() method can be used for those usecases"
      ],
      "metadata": {
        "id": "I68-8jogXy8w"
      }
    },
    {
      "cell_type": "code",
      "source": [
        "import numpy as np\n",
        "\n",
        "#1-D\n",
        "arr = np.array([1, 2, 3])\n",
        "\n",
        "for idx, x in np.ndenumerate(arr):\n",
        "  print(idx, x)\n",
        "\n",
        "#2-D\n",
        "\n",
        "arr = np.array([[1, 2, 3, 4], [5, 6, 7, 8]])\n",
        "\n",
        "for idx, x in np.ndenumerate(arr):\n",
        "  print(idx, x)"
      ],
      "metadata": {
        "colab": {
          "base_uri": "https://localhost:8080/"
        },
        "id": "qreO4NzXXymQ",
        "outputId": "0a907d81-c54c-4311-8195-5d6939bcf264"
      },
      "execution_count": null,
      "outputs": [
        {
          "output_type": "stream",
          "name": "stdout",
          "text": [
            "(0,) 1\n",
            "(1,) 2\n",
            "(2,) 3\n",
            "(0, 0) 1\n",
            "(0, 1) 2\n",
            "(0, 2) 3\n",
            "(0, 3) 4\n",
            "(1, 0) 5\n",
            "(1, 1) 6\n",
            "(1, 2) 7\n",
            "(1, 3) 8\n"
          ]
        }
      ]
    },
    {
      "cell_type": "markdown",
      "source": [
        "# **9. NumPy Joining Array**"
      ],
      "metadata": {
        "id": "zMV_D7EoWnjw"
      }
    },
    {
      "cell_type": "markdown",
      "source": [
        "## Joining NumPy Arrays"
      ],
      "metadata": {
        "id": "8bhPj4XThrln"
      }
    },
    {
      "cell_type": "markdown",
      "source": [
        "Joining means putting contents of two or more arrays in a single array.\n",
        "\n",
        "In SQL we join tables based on a key, whereas in NumPy we join arrays by axes.\n",
        "\n",
        "We pass a sequence of arrays that we want to join to the concatenate() function, along with the axis. If axis is not explicitly passed, it is taken as 0."
      ],
      "metadata": {
        "id": "5QS6MYphhvjz"
      }
    },
    {
      "cell_type": "code",
      "source": [
        "import numpy as np\n",
        "\n",
        "arr1 = np.array([1, 2, 3, 4])\n",
        "arr2 = np.array([5, 6, 7, 8])\n",
        "\n",
        "arr = np.concatenate((arr1, arr2))\n",
        "\n",
        "print(arr)"
      ],
      "metadata": {
        "colab": {
          "base_uri": "https://localhost:8080/"
        },
        "id": "JM-n6FrRh24g",
        "outputId": "9b6f5b58-da3c-4fc9-c00c-e968316ad149"
      },
      "execution_count": null,
      "outputs": [
        {
          "output_type": "stream",
          "name": "stdout",
          "text": [
            "[1 2 3 4 5 6 7 8]\n"
          ]
        }
      ]
    },
    {
      "cell_type": "markdown",
      "source": [
        "Join two 2-D arrays along rows (axis=1):"
      ],
      "metadata": {
        "id": "Z1Cgxe09irkX"
      }
    },
    {
      "cell_type": "code",
      "source": [
        "import numpy as np\n",
        "\n",
        "arr1 = np.array([[1, 2], [3, 4]])\n",
        "arr2 = np.array([[5, 6], [7, 8]])\n",
        "\n",
        "arr = np.concatenate((arr1, arr2), axis=1)\n",
        "\n",
        "print(arr)"
      ],
      "metadata": {
        "colab": {
          "base_uri": "https://localhost:8080/"
        },
        "id": "lJgDXBVSisSX",
        "outputId": "97c72771-04f9-4f71-9a7a-9a7ca490992e"
      },
      "execution_count": null,
      "outputs": [
        {
          "output_type": "stream",
          "name": "stdout",
          "text": [
            "[[1 2]\n",
            " [3 4]\n",
            " [5 6]\n",
            " [7 8]]\n"
          ]
        }
      ]
    },
    {
      "cell_type": "markdown",
      "source": [
        "## Joining Arrays Using Stack Functions"
      ],
      "metadata": {
        "id": "IOr4N1jajQjo"
      }
    },
    {
      "cell_type": "markdown",
      "source": [
        "Stacking is same as concatenation, the only difference is that stacking is done along a new axis.\n",
        "\n",
        "We can concatenate two 1-D arrays along the second axis which would result in putting them one over the other, ie. stacking.\n",
        "\n",
        "We pass a sequence of arrays that we want to join to the stack() method along with the axis. If axis is not explicitly passed it is taken as 0."
      ],
      "metadata": {
        "id": "-8NJkfPujTGs"
      }
    },
    {
      "cell_type": "code",
      "source": [
        "import numpy as np\n",
        "\n",
        "arr1 = np.array([1, 2, 3])\n",
        "\n",
        "arr2 = np.array([4, 5, 6])\n",
        "\n",
        "arr = np.stack((arr1, arr2), axis=1)\n",
        "\n",
        "print(arr)"
      ],
      "metadata": {
        "colab": {
          "base_uri": "https://localhost:8080/"
        },
        "id": "PPg9YOIMjRk0",
        "outputId": "351e11a1-29eb-4872-9773-96d97f56763b"
      },
      "execution_count": null,
      "outputs": [
        {
          "output_type": "stream",
          "name": "stdout",
          "text": [
            "[[1 2 3]\n",
            " [4 5 6]]\n"
          ]
        }
      ]
    },
    {
      "cell_type": "markdown",
      "source": [
        "## Stacking Along Rows"
      ],
      "metadata": {
        "id": "mUf1XbB_kLHT"
      }
    },
    {
      "cell_type": "markdown",
      "source": [
        "NumPy provides a helper function: hstack() to stack along rows."
      ],
      "metadata": {
        "id": "Ar2YMAAHkN7Z"
      }
    },
    {
      "cell_type": "code",
      "source": [
        "import numpy as np\n",
        "\n",
        "arr1 = np.array([1, 2, 3])\n",
        "\n",
        "arr2 = np.array([4, 5, 6])\n",
        "\n",
        "arr = np.hstack((arr1, arr2))\n",
        "\n",
        "print(arr)"
      ],
      "metadata": {
        "colab": {
          "base_uri": "https://localhost:8080/"
        },
        "id": "EX99atKgkQb1",
        "outputId": "a3f6ddbd-2aa2-4465-8d55-22fd6d598edb"
      },
      "execution_count": null,
      "outputs": [
        {
          "output_type": "stream",
          "name": "stdout",
          "text": [
            "[1 2 3 4 5 6]\n"
          ]
        }
      ]
    },
    {
      "cell_type": "markdown",
      "source": [
        "## Stacking Along Columns"
      ],
      "metadata": {
        "id": "ETtt0AGRkcvp"
      }
    },
    {
      "cell_type": "markdown",
      "source": [
        "NumPy provides a helper function: vstack()  to stack along columns."
      ],
      "metadata": {
        "id": "Dxgy-_rCkfzV"
      }
    },
    {
      "cell_type": "code",
      "source": [
        "import numpy as np\n",
        "\n",
        "arr1 = np.array([1, 2, 3])\n",
        "\n",
        "arr2 = np.array([4, 5, 6])\n",
        "\n",
        "arr = np.vstack((arr1, arr2))\n",
        "\n",
        "print(arr)"
      ],
      "metadata": {
        "colab": {
          "base_uri": "https://localhost:8080/"
        },
        "id": "U8AKpUYSkg5U",
        "outputId": "2608ff4c-4e0e-45a9-d50d-82093db70a05"
      },
      "execution_count": null,
      "outputs": [
        {
          "output_type": "stream",
          "name": "stdout",
          "text": [
            "[[1 2 3]\n",
            " [4 5 6]]\n"
          ]
        }
      ]
    },
    {
      "cell_type": "markdown",
      "source": [
        "## Stacking Along Height (depth)"
      ],
      "metadata": {
        "id": "EbFcF_8Uksr2"
      }
    },
    {
      "cell_type": "markdown",
      "source": [
        "NumPy provides a helper function: dstack() to stack along height, which is the same as depth."
      ],
      "metadata": {
        "id": "5BIIAA4BkvSl"
      }
    },
    {
      "cell_type": "code",
      "source": [
        "import numpy as np\n",
        "\n",
        "arr1 = np.array([1, 2, 3])\n",
        "\n",
        "arr2 = np.array([4, 5, 6])\n",
        "\n",
        "arr = np.dstack((arr1, arr2))\n",
        "\n",
        "print(arr)"
      ],
      "metadata": {
        "colab": {
          "base_uri": "https://localhost:8080/"
        },
        "id": "QHJVeZ8lkwns",
        "outputId": "60b19739-75af-4730-d583-45324419f8a3"
      },
      "execution_count": null,
      "outputs": [
        {
          "output_type": "stream",
          "name": "stdout",
          "text": [
            "[[[1 4]\n",
            "  [2 5]\n",
            "  [3 6]]]\n"
          ]
        }
      ]
    },
    {
      "cell_type": "markdown",
      "source": [
        "# **10. NumPy Splitting Array**"
      ],
      "metadata": {
        "id": "XAU45mQGWtxB"
      }
    },
    {
      "cell_type": "markdown",
      "source": [
        "## Splitting NumPy Arrays"
      ],
      "metadata": {
        "id": "UJ29G7oAbuSp"
      }
    },
    {
      "cell_type": "markdown",
      "source": [
        "Splitting is reverse operation of Joining.\n",
        "\n",
        "Joining merges multiple arrays into one and Splitting breaks one array into multiple.\n",
        "\n",
        "We use array_split() for splitting arrays, we pass it the array we want to split and the number of splits."
      ],
      "metadata": {
        "id": "Z174ooRfbvhl"
      }
    },
    {
      "cell_type": "code",
      "source": [
        "import numpy as np\n",
        "\n",
        "arr = np.array([1, 2, 3, 4 ,5, 6])\n",
        "\n",
        "newarr1 = np.array_split(arr, 3)\n",
        "newarr2 = np.array_split(arr, 4)\n",
        "\n",
        "print(newarr1)\n",
        "print(newarr2)"
      ],
      "metadata": {
        "colab": {
          "base_uri": "https://localhost:8080/"
        },
        "id": "mlKuH524b8_Z",
        "outputId": "80ca900d-5805-429b-c4fd-68489f9d98ee"
      },
      "execution_count": null,
      "outputs": [
        {
          "output_type": "stream",
          "name": "stdout",
          "text": [
            "[array([1, 2]), array([3, 4]), array([5, 6])]\n",
            "[array([1, 2]), array([3, 4]), array([5]), array([6])]\n"
          ]
        }
      ]
    },
    {
      "cell_type": "markdown",
      "source": [
        "## Split Into Arrays"
      ],
      "metadata": {
        "id": "Hvhr5tDgc__2"
      }
    },
    {
      "cell_type": "markdown",
      "source": [
        "The return value of the array_split() method is an array containing each of the split as an array."
      ],
      "metadata": {
        "id": "TUHIpBA2dBYe"
      }
    },
    {
      "cell_type": "code",
      "source": [
        "import numpy as np\n",
        "\n",
        "arr = np.array([1, 2, 3, 4, 5, 6])\n",
        "\n",
        "newarr = np.array_split(arr, 3)\n",
        "\n",
        "print(newarr[0])\n",
        "print(newarr[1])\n",
        "print(newarr[2])"
      ],
      "metadata": {
        "colab": {
          "base_uri": "https://localhost:8080/"
        },
        "id": "9HuK5aHCdIx2",
        "outputId": "bad23c51-f9cd-4827-a3ee-7da6a496eedb"
      },
      "execution_count": null,
      "outputs": [
        {
          "output_type": "stream",
          "name": "stdout",
          "text": [
            "[1 2]\n",
            "[3 4]\n",
            "[5 6]\n"
          ]
        }
      ]
    },
    {
      "cell_type": "markdown",
      "source": [
        "## Splitting 2-D Arrays"
      ],
      "metadata": {
        "id": "3Wkg3jUndam_"
      }
    },
    {
      "cell_type": "code",
      "source": [
        "import numpy as np\n",
        "\n",
        "arr = np.array([[1, 2], [3, 4], [5, 6], [7, 8], [9, 10], [11, 12]])\n",
        "\n",
        "newarr = np.array_split(arr, 3)\n",
        "\n"
      ],
      "metadata": {
        "colab": {
          "base_uri": "https://localhost:8080/"
        },
        "id": "5Cp0uhE2dbiI",
        "outputId": "085b1c54-ff30-4d36-92e5-80a1ec1325d7"
      },
      "execution_count": null,
      "outputs": [
        {
          "output_type": "stream",
          "name": "stdout",
          "text": [
            "[array([[1, 2],\n",
            "       [3, 4]]), array([[5, 6],\n",
            "       [7, 8]]), array([[ 9, 10],\n",
            "       [11, 12]])]\n",
            "[[1 2]\n",
            " [3 4]]\n",
            "[[5 6]\n",
            " [7 8]]\n",
            "[[ 9 10]\n",
            " [11 12]]\n"
          ]
        }
      ]
    },
    {
      "cell_type": "code",
      "source": [
        "import numpy as np\n",
        "\n",
        "arr = np.array([[1, 2, 3], [4, 5, 6], [7, 8, 9], [10, 11, 12], [13, 14, 15], [16, 17, 18]])\n",
        "\n",
        "newarr = np.array_split(arr, 3)\n",
        "\n",
        "print(newarr)"
      ],
      "metadata": {
        "colab": {
          "base_uri": "https://localhost:8080/"
        },
        "id": "wrb150WIdlfR",
        "outputId": "b6267b25-2f4c-400d-829d-d5f875c10fec"
      },
      "execution_count": null,
      "outputs": [
        {
          "output_type": "stream",
          "name": "stdout",
          "text": [
            "[array([[1, 2, 3],\n",
            "       [4, 5, 6]]), array([[ 7,  8,  9],\n",
            "       [10, 11, 12]]), array([[13, 14, 15],\n",
            "       [16, 17, 18]])]\n"
          ]
        }
      ]
    },
    {
      "cell_type": "markdown",
      "source": [
        "Split the 2-D array into three 2-D arrays along columns."
      ],
      "metadata": {
        "id": "qS0hU8hRd2oz"
      }
    },
    {
      "cell_type": "code",
      "source": [
        "import numpy as np\n",
        "\n",
        "arr = np.array([[1, 2, 3], [4, 5, 6], [7, 8, 9], [10, 11, 12], [13, 14, 15], [16, 17, 18]])\n",
        "\n",
        "newarr = np.array_split(arr,3 ,axis=1)\n",
        "\n",
        "print(newarr)"
      ],
      "metadata": {
        "colab": {
          "base_uri": "https://localhost:8080/"
        },
        "id": "tBj2zK9pd3Uz",
        "outputId": "4afa2977-8c29-4548-d546-454e1678b116"
      },
      "execution_count": null,
      "outputs": [
        {
          "output_type": "stream",
          "name": "stdout",
          "text": [
            "[array([[ 1],\n",
            "       [ 4],\n",
            "       [ 7],\n",
            "       [10],\n",
            "       [13],\n",
            "       [16]]), array([[ 2],\n",
            "       [ 5],\n",
            "       [ 8],\n",
            "       [11],\n",
            "       [14],\n",
            "       [17]]), array([[ 3],\n",
            "       [ 6],\n",
            "       [ 9],\n",
            "       [12],\n",
            "       [15],\n",
            "       [18]])]\n"
          ]
        }
      ]
    },
    {
      "cell_type": "markdown",
      "source": [
        "Use the hsplit() method to split the 2-D array into three 2-D arrays along columns."
      ],
      "metadata": {
        "id": "DRg2KWeCeXkE"
      }
    },
    {
      "cell_type": "code",
      "source": [
        "import numpy as np\n",
        "\n",
        "arr = np.array([[1, 2, 3], [4, 5, 6], [7, 8, 9], [10, 11, 12], [13, 14, 15], [16, 17, 18]])\n",
        "\n",
        "newarr = np.hsplit(arr, 3)\n",
        "\n",
        "print(newarr)"
      ],
      "metadata": {
        "colab": {
          "base_uri": "https://localhost:8080/"
        },
        "id": "IoLMCEQkeYCL",
        "outputId": "0275839b-27e0-45de-b807-5027618133cf"
      },
      "execution_count": null,
      "outputs": [
        {
          "output_type": "stream",
          "name": "stdout",
          "text": [
            "[array([[ 1],\n",
            "       [ 4],\n",
            "       [ 7],\n",
            "       [10],\n",
            "       [13],\n",
            "       [16]]), array([[ 2],\n",
            "       [ 5],\n",
            "       [ 8],\n",
            "       [11],\n",
            "       [14],\n",
            "       [17]]), array([[ 3],\n",
            "       [ 6],\n",
            "       [ 9],\n",
            "       [12],\n",
            "       [15],\n",
            "       [18]])]\n"
          ]
        }
      ]
    },
    {
      "cell_type": "markdown",
      "source": [
        "# **11. NumPy Searching Arrays**"
      ],
      "metadata": {
        "id": "GmmtFxKUWyXA"
      }
    },
    {
      "cell_type": "markdown",
      "source": [
        "## Searching Arrays"
      ],
      "metadata": {
        "id": "5C59_JLbe5lS"
      }
    },
    {
      "cell_type": "markdown",
      "source": [
        "You can search an array for a certain value, and return the indexes that get a match.\n",
        "\n",
        "To search an array, use the where() method."
      ],
      "metadata": {
        "id": "Ie8Pw4KMfBlM"
      }
    },
    {
      "cell_type": "code",
      "source": [
        "import numpy as np\n",
        "\n",
        "arr = np.array([1, 2, 3, 4, 5, 4, 4])\n",
        "\n",
        "x = np.where(arr == 4)\n",
        "\n",
        "print(x)"
      ],
      "metadata": {
        "colab": {
          "base_uri": "https://localhost:8080/"
        },
        "id": "A40j1gS8e-DT",
        "outputId": "84b19a73-3c13-42df-f58f-fef0e9ab7c99"
      },
      "execution_count": null,
      "outputs": [
        {
          "output_type": "stream",
          "name": "stdout",
          "text": [
            "(array([3, 5, 6]),)\n"
          ]
        }
      ]
    },
    {
      "cell_type": "markdown",
      "source": [
        "Find the indexes where the values are even:"
      ],
      "metadata": {
        "id": "5Z-q0-fafegN"
      }
    },
    {
      "cell_type": "code",
      "source": [
        "import numpy as np\n",
        "\n",
        "arr = np.array([1, 2, 3, 4, 5, 6, 7, 8])\n",
        "\n",
        "x = np.where(arr%2==0)\n",
        "\n",
        "print(x)"
      ],
      "metadata": {
        "colab": {
          "base_uri": "https://localhost:8080/"
        },
        "id": "GTncMNXue-3s",
        "outputId": "4e423f31-1f2b-4e6f-e412-194a0c2487a4"
      },
      "execution_count": null,
      "outputs": [
        {
          "output_type": "stream",
          "name": "stdout",
          "text": [
            "(array([1, 3, 5, 7]),)\n"
          ]
        }
      ]
    },
    {
      "cell_type": "markdown",
      "source": [
        "Find the indexes where the values are odd:"
      ],
      "metadata": {
        "id": "Ud8RW1VOfwCL"
      }
    },
    {
      "cell_type": "code",
      "source": [
        "import numpy as np\n",
        "\n",
        "arr = np.array([1, 2, 3, 4, 5, 6, 7, 8])\n",
        "\n",
        "x = np.where(arr%2==1)\n",
        "\n",
        "print(x)"
      ],
      "metadata": {
        "colab": {
          "base_uri": "https://localhost:8080/"
        },
        "id": "YdqVuguEfwwr",
        "outputId": "3f7617c4-dc46-4fa5-a9a7-3171ba0dcfa9"
      },
      "execution_count": null,
      "outputs": [
        {
          "output_type": "stream",
          "name": "stdout",
          "text": [
            "(array([0, 2, 4, 6]),)\n"
          ]
        }
      ]
    },
    {
      "cell_type": "markdown",
      "source": [
        "## Search Sorted"
      ],
      "metadata": {
        "id": "yGzC32ktgMtp"
      }
    },
    {
      "cell_type": "markdown",
      "source": [
        "There is a method called searchsorted() which performs a binary search in the array, and returns the index where the specified value would be inserted to maintain the search order."
      ],
      "metadata": {
        "id": "xCDQYA6rgOjy"
      }
    },
    {
      "cell_type": "markdown",
      "source": [
        "The method starts the search from the left and returns the first index where the number 7 is no longer larger than the next value."
      ],
      "metadata": {
        "id": "Lce-TdOOhBh7"
      }
    },
    {
      "cell_type": "code",
      "source": [
        "import numpy as np\n",
        "\n",
        "arr = np.array([6, 7, 8, 9])\n",
        "\n",
        "x = np.searchsorted(arr, 7)\n",
        "\n",
        "print(x)"
      ],
      "metadata": {
        "colab": {
          "base_uri": "https://localhost:8080/"
        },
        "id": "WYNOS3fngREt",
        "outputId": "091cb032-5b5c-4001-f347-d813c5f4b5ec"
      },
      "execution_count": null,
      "outputs": [
        {
          "output_type": "stream",
          "name": "stdout",
          "text": [
            "1\n"
          ]
        }
      ]
    },
    {
      "cell_type": "markdown",
      "source": [
        "**Search From the Right Side**"
      ],
      "metadata": {
        "id": "pYyuEGBVhGzW"
      }
    },
    {
      "cell_type": "markdown",
      "source": [
        "By default the left most index is returned, but we can give side='right' to return the right most index instead."
      ],
      "metadata": {
        "id": "_eqs7qx0hKLh"
      }
    },
    {
      "cell_type": "code",
      "source": [
        "import numpy as np\n",
        "\n",
        "arr = np.array([6, 7, 8, 9])\n",
        "\n",
        "x = np.searchsorted(arr, 7, side='right')\n",
        "\n",
        "print(x)"
      ],
      "metadata": {
        "colab": {
          "base_uri": "https://localhost:8080/"
        },
        "id": "dsb5sUQahH8-",
        "outputId": "a26f1a04-154a-4c50-bcc4-0f79231199c5"
      },
      "execution_count": null,
      "outputs": [
        {
          "output_type": "stream",
          "name": "stdout",
          "text": [
            "2\n"
          ]
        }
      ]
    },
    {
      "cell_type": "markdown",
      "source": [
        "## Multiple Values"
      ],
      "metadata": {
        "id": "-4oHKZhbha26"
      }
    },
    {
      "cell_type": "code",
      "source": [
        "import numpy as np\n",
        "\n",
        "arr = np.array([1, 3, 5, 7])\n",
        "\n",
        "x = np.searchsorted(arr, [2, 4, 6])\n",
        "\n",
        "print(x)"
      ],
      "metadata": {
        "colab": {
          "base_uri": "https://localhost:8080/"
        },
        "id": "d3LzUAIQhfgE",
        "outputId": "c456415b-ce45-45a4-b6e8-0de8621b76b9"
      },
      "execution_count": null,
      "outputs": [
        {
          "output_type": "stream",
          "name": "stdout",
          "text": [
            "[1 2 3]\n"
          ]
        }
      ]
    },
    {
      "cell_type": "markdown",
      "source": [
        "# **12. NumPy Array sort**"
      ],
      "metadata": {
        "id": "YzkslSNFW3GA"
      }
    },
    {
      "cell_type": "markdown",
      "source": [
        "## Sorting Arrays"
      ],
      "metadata": {
        "id": "KMcEMaO-iCEM"
      }
    },
    {
      "cell_type": "code",
      "source": [
        "import numpy as np\n",
        "#int\n",
        "arr = np.array([3, 2, 0, 1])\n",
        "print(np.sort(arr))\n",
        "\n",
        "#str\n",
        "arr = np.array(['banana', 'cherry', 'apple'])\n",
        "print(np.sort(arr))\n",
        "\n",
        "#bool\n",
        "arr = np.array([True, False, True])\n",
        "print(np.sort(arr))"
      ],
      "metadata": {
        "colab": {
          "base_uri": "https://localhost:8080/"
        },
        "id": "4vjdJwyeiEzA",
        "outputId": "c3de1aa6-02dc-4a77-fae5-72b55272021c"
      },
      "execution_count": null,
      "outputs": [
        {
          "output_type": "stream",
          "name": "stdout",
          "text": [
            "[0 1 2 3]\n",
            "['apple' 'banana' 'cherry']\n",
            "[False  True  True]\n"
          ]
        }
      ]
    },
    {
      "cell_type": "markdown",
      "source": [
        "## Sorting a 2-D Array"
      ],
      "metadata": {
        "id": "ykkhftoTinXV"
      }
    },
    {
      "cell_type": "code",
      "source": [
        "import numpy as np\n",
        "\n",
        "arr = np.array([[3, 2, 4], [5, 0, 1]])\n",
        "\n",
        "print(np.sort(arr))"
      ],
      "metadata": {
        "colab": {
          "base_uri": "https://localhost:8080/"
        },
        "id": "gzXcIY2eiv3l",
        "outputId": "6f50a0c9-46ca-458b-a083-8c8287efe2bc"
      },
      "execution_count": null,
      "outputs": [
        {
          "output_type": "stream",
          "name": "stdout",
          "text": [
            "[[2 3 4]\n",
            " [0 1 5]]\n"
          ]
        }
      ]
    },
    {
      "cell_type": "markdown",
      "source": [
        "# **13. NumPy Filter Array**"
      ],
      "metadata": {
        "id": "pz2EgjktW5ml"
      }
    },
    {
      "cell_type": "markdown",
      "source": [
        "## Filtering Arrays"
      ],
      "metadata": {
        "id": "Sf3ltbtIjjSh"
      }
    },
    {
      "cell_type": "markdown",
      "source": [
        "Getting some elements out of an existing array and creating a new array out of them is called filtering.\n",
        "\n",
        "In NumPy, you filter an array using a boolean index list."
      ],
      "metadata": {
        "id": "MPNGOGUGjlgU"
      }
    },
    {
      "cell_type": "code",
      "source": [
        "import numpy as np\n",
        "\n",
        "arr = np.array([41, 42, 43, 44])\n",
        "\n",
        "x = [True, False, True, False]\n",
        "\n",
        "newarr=arr[x]\n",
        "\n",
        "print(newarr)"
      ],
      "metadata": {
        "colab": {
          "base_uri": "https://localhost:8080/"
        },
        "id": "jsW-W970jq9x",
        "outputId": "58283148-697d-48b3-bdd8-f36dc8f01320"
      },
      "execution_count": null,
      "outputs": [
        {
          "output_type": "stream",
          "name": "stdout",
          "text": [
            "[41 43]\n"
          ]
        }
      ]
    },
    {
      "cell_type": "markdown",
      "source": [
        "## Creating the Filter Array"
      ],
      "metadata": {
        "id": "YIYqVK2JlOrL"
      }
    },
    {
      "cell_type": "code",
      "source": [
        "import numpy as np\n",
        "arr = np.array([1, 3, 7, 4, 8, 8, 3, 9 ,8])\n",
        "\n",
        "filter_arr = []\n",
        "\n",
        "for elemnt in arr:\n",
        "  if elemnt == 8 or elemnt == 3:\n",
        "    filter_arr.append(True)\n",
        "  else:\n",
        "    filter_arr.append(False)\n",
        "\n",
        "new_arr = arr[filter_arr]\n",
        "\n",
        "print(new_arr)"
      ],
      "metadata": {
        "colab": {
          "base_uri": "https://localhost:8080/"
        },
        "id": "WtqvxmtklSz2",
        "outputId": "1cb2c828-cfad-4509-b0fc-99013880291f"
      },
      "execution_count": null,
      "outputs": [
        {
          "output_type": "stream",
          "name": "stdout",
          "text": [
            "[3 8 8 3 8]\n"
          ]
        }
      ]
    },
    {
      "cell_type": "code",
      "source": [
        "import numpy as np\n",
        "\n",
        "arr = np.array([1, 2, 3, 4, 5, 6, 7])\n",
        "\n",
        "filter_arr = []\n",
        "\n",
        "for element in arr:\n",
        "\n",
        "  if element % 2 == 0:\n",
        "    filter_arr.append(True)\n",
        "  else:\n",
        "    filter_arr.append(False)\n",
        "\n",
        "newarr = arr[filter_arr]\n",
        "\n",
        "print(filter_arr)\n",
        "print(newarr)"
      ],
      "metadata": {
        "colab": {
          "base_uri": "https://localhost:8080/"
        },
        "id": "Ng78gN5km1QM",
        "outputId": "07fe94db-7b1c-485a-f502-295b6109695f"
      },
      "execution_count": null,
      "outputs": [
        {
          "output_type": "stream",
          "name": "stdout",
          "text": [
            "[False, True, False, True, False, True, False]\n",
            "[2 4 6]\n"
          ]
        }
      ]
    },
    {
      "cell_type": "markdown",
      "source": [
        "## Creating Filter Directly From Array"
      ],
      "metadata": {
        "id": "OJDsXfEunAUk"
      }
    },
    {
      "cell_type": "code",
      "source": [
        "import numpy as np\n",
        "\n",
        "arr = np.array([41, 42, 43, 44])\n",
        "\n",
        "filter_arr = arr > 42\n",
        "\n",
        "newarr = arr[filter_arr]\n",
        "\n",
        "print(filter_arr)\n",
        "print(newarr)"
      ],
      "metadata": {
        "colab": {
          "base_uri": "https://localhost:8080/"
        },
        "id": "aWpvWa0VnBlf",
        "outputId": "eaaab95b-bbda-4ded-cec3-9db211288268"
      },
      "execution_count": null,
      "outputs": [
        {
          "output_type": "stream",
          "name": "stdout",
          "text": [
            "[False False  True  True]\n",
            "[43 44]\n"
          ]
        }
      ]
    },
    {
      "cell_type": "code",
      "source": [
        "import numpy as np\n",
        "\n",
        "arr = np.array([1, 2, 3, 4, 5, 6, 7])\n",
        "\n",
        "filter_arr = arr % 2 == 0\n",
        "\n",
        "newarr = arr[filter_arr]\n",
        "\n",
        "print(filter_arr)\n",
        "print(newarr)"
      ],
      "metadata": {
        "colab": {
          "base_uri": "https://localhost:8080/"
        },
        "id": "xUmXng0NnKsJ",
        "outputId": "723c208d-cd2f-4340-82a4-a2b961775ce0"
      },
      "execution_count": null,
      "outputs": [
        {
          "output_type": "stream",
          "name": "stdout",
          "text": [
            "[False  True False  True False  True False]\n",
            "[2 4 6]\n"
          ]
        }
      ]
    }
  ]
}