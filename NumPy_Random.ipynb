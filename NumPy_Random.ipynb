{
  "nbformat": 4,
  "nbformat_minor": 0,
  "metadata": {
    "colab": {
      "provenance": [],
      "authorship_tag": "ABX9TyNXb1N70mkhZ3fZo8Fa7hHt",
      "include_colab_link": true
    },
    "kernelspec": {
      "name": "python3",
      "display_name": "Python 3"
    },
    "language_info": {
      "name": "python"
    }
  },
  "cells": [
    {
      "cell_type": "markdown",
      "metadata": {
        "id": "view-in-github",
        "colab_type": "text"
      },
      "source": [
        "<a href=\"https://colab.research.google.com/github/ItsMohamedAyman/NumPy/blob/main/NumPy_Random.ipynb\" target=\"_parent\"><img src=\"https://colab.research.google.com/assets/colab-badge.svg\" alt=\"Open In Colab\"/></a>"
      ]
    },
    {
      "cell_type": "markdown",
      "source": [
        "# **Random Numbers in NumPy**"
      ],
      "metadata": {
        "id": "XYg6M-Be1f_v"
      }
    },
    {
      "cell_type": "code",
      "source": [],
      "metadata": {
        "id": "7BImAlj91uAP"
      },
      "execution_count": null,
      "outputs": []
    },
    {
      "cell_type": "markdown",
      "source": [
        "# **Random Data Distribution**"
      ],
      "metadata": {
        "id": "imKoSMSK1htJ"
      }
    },
    {
      "cell_type": "code",
      "source": [],
      "metadata": {
        "id": "eUL-NETh1ugj"
      },
      "execution_count": null,
      "outputs": []
    },
    {
      "cell_type": "markdown",
      "source": [
        "# **Random Permutations**"
      ],
      "metadata": {
        "id": "ARPV9KRr1lHe"
      }
    },
    {
      "cell_type": "code",
      "source": [],
      "metadata": {
        "id": "LrByoKJr1vFa"
      },
      "execution_count": null,
      "outputs": []
    },
    {
      "cell_type": "markdown",
      "source": [
        "# **Seaborn**"
      ],
      "metadata": {
        "id": "9YY-1Dwu1oLW"
      }
    },
    {
      "cell_type": "code",
      "source": [],
      "metadata": {
        "id": "Fe_usFqs2lzH"
      },
      "execution_count": null,
      "outputs": []
    },
    {
      "cell_type": "markdown",
      "source": [
        "# **Normal (Gaussian) Distribution**"
      ],
      "metadata": {
        "id": "htDz3E4Q1tLF"
      }
    },
    {
      "cell_type": "code",
      "source": [],
      "metadata": {
        "id": "VTEFfOhf101z"
      },
      "execution_count": null,
      "outputs": []
    },
    {
      "cell_type": "markdown",
      "source": [
        "# **Binomial Distribution**"
      ],
      "metadata": {
        "id": "a-1Xm2lZ10GH"
      }
    },
    {
      "cell_type": "code",
      "source": [],
      "metadata": {
        "id": "5Ty_vhaa2b2u"
      },
      "execution_count": null,
      "outputs": []
    },
    {
      "cell_type": "markdown",
      "source": [
        "# **Poisson Distribution**"
      ],
      "metadata": {
        "id": "17X715Kl14Xe"
      }
    },
    {
      "cell_type": "code",
      "source": [],
      "metadata": {
        "id": "hXKFWyYw2col"
      },
      "execution_count": null,
      "outputs": []
    },
    {
      "cell_type": "markdown",
      "source": [
        "# **Uniform Distribution**"
      ],
      "metadata": {
        "id": "0YK0m51D18ya"
      }
    },
    {
      "cell_type": "code",
      "source": [],
      "metadata": {
        "id": "iLFl7Woq2dHI"
      },
      "execution_count": null,
      "outputs": []
    },
    {
      "cell_type": "markdown",
      "source": [
        "# **Logistic Distribution**"
      ],
      "metadata": {
        "id": "JX5jVCGU2AM3"
      }
    },
    {
      "cell_type": "code",
      "source": [],
      "metadata": {
        "id": "5Uotmsy22d1v"
      },
      "execution_count": null,
      "outputs": []
    },
    {
      "cell_type": "markdown",
      "source": [
        "# **Multinomial Distribution**"
      ],
      "metadata": {
        "id": "Zsmv0xL_2GH6"
      }
    },
    {
      "cell_type": "code",
      "source": [],
      "metadata": {
        "id": "RFjlP6Lv2esC"
      },
      "execution_count": null,
      "outputs": []
    },
    {
      "cell_type": "markdown",
      "source": [
        "# **Exponential Distribution**"
      ],
      "metadata": {
        "id": "3lbI1DPK2K4U"
      }
    },
    {
      "cell_type": "code",
      "source": [],
      "metadata": {
        "id": "wqvI3-lB2fai"
      },
      "execution_count": null,
      "outputs": []
    },
    {
      "cell_type": "markdown",
      "source": [
        "# **Chi Square Distribution**"
      ],
      "metadata": {
        "id": "n_uA5X8N2Mcn"
      }
    },
    {
      "cell_type": "code",
      "source": [],
      "metadata": {
        "id": "hsbP2VaT2gDF"
      },
      "execution_count": null,
      "outputs": []
    },
    {
      "cell_type": "markdown",
      "source": [
        "# **Rayleigh Distribution**"
      ],
      "metadata": {
        "id": "r7h9eLe-2Pa7"
      }
    },
    {
      "cell_type": "code",
      "source": [],
      "metadata": {
        "id": "Ll5g6Co02gv3"
      },
      "execution_count": null,
      "outputs": []
    },
    {
      "cell_type": "markdown",
      "source": [
        "# **Pareto Distribution**"
      ],
      "metadata": {
        "id": "fppEbrUT2SWB"
      }
    },
    {
      "cell_type": "code",
      "source": [],
      "metadata": {
        "id": "znwBHrGH2hF2"
      },
      "execution_count": null,
      "outputs": []
    },
    {
      "cell_type": "markdown",
      "source": [
        "# **Zipf Distribution**"
      ],
      "metadata": {
        "id": "-SppmNi02ZxX"
      }
    },
    {
      "cell_type": "code",
      "source": [],
      "metadata": {
        "id": "3XQcWwG52hjx"
      },
      "execution_count": null,
      "outputs": []
    }
  ]
}